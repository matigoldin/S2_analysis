{
 "cells": [
  {
   "cell_type": "code",
   "execution_count": 4,
   "metadata": {
    "collapsed": false
   },
   "outputs": [
    {
     "name": "stdout",
     "output_type": "stream",
     "text": [
      "Populating the interactive namespace from numpy and matplotlib\n"
     ]
    }
   ],
   "source": [
    " %pylab inline"
   ]
  },
  {
   "cell_type": "code",
   "execution_count": 5,
   "metadata": {
    "collapsed": false
   },
   "outputs": [],
   "source": [
    "from pylab import *\n",
    "from scipy import *\n",
    "from scipy import stats, io\n",
    "import numpy as np\n",
    "import struct\n",
    "import tables as tb\n",
    "from attrdict import AttrDict\n",
    "import matplotlib.pyplot as plt\n",
    "import os as os\n",
    "from phy.io import KwikModel\n",
    "import codecs as codecs\n",
    "import matplotlib.gridspec as gridspec\n",
    "import matplotlib.ticker as mtick"
   ]
  },
  {
   "cell_type": "code",
   "execution_count": 96,
   "metadata": {
    "collapsed": false
   },
   "outputs": [],
   "source": [
    "#----------------------------------------------------------------------------------------\n",
    "#SAVING BINARY OBJECTS DATA\n",
    "#need to automate data folder creation\n",
    "#----------------------------------------------------------------------------------------\n",
    "import pickle \n",
    "\n",
    "def save_obj(obj, name ):\n",
    "    with open( name + '.pkl', 'wb') as f:\n",
    "        pickle.dump(obj, f, pickle.HIGHEST_PROTOCOL)\n",
    "\n",
    "def load_obj(name ):\n",
    "    with open( name + '.pkl', 'rb') as f:\n",
    "        return pickle.load(f)"
   ]
  },
  {
   "cell_type": "markdown",
   "metadata": {},
   "source": [
    "# Experiment Files and Folders"
   ]
  },
  {
   "cell_type": "code",
   "execution_count": 93,
   "metadata": {
    "collapsed": false
   },
   "outputs": [],
   "source": [
    "# In this cell you put all the information to make the code portable from computer to computer\n",
    "# You have to place all the file names and experiments, then you loop whichever you want to analyse\n",
    "#--------------------------------------------------------------------------------\n",
    "#Experiment numbers\n",
    "ExpeNum = [20,22,23,24,26,27,28,29,30,31,32]\n",
    "\n",
    "#--------------------------------------------------------------------------------\n",
    "#Folders for measurements and experiments (this is how we separate shanks in folders for individual analyses)\n",
    "m164 = ['m1s1','m1s2','m1s3','m1s4','m1s5','m1s6','m1s7','m1s8']\n",
    "m264 = ['m2s1','m2s2','m2s3','m2s4','m2s5','m2s6','m2s7','m2s8']\n",
    "m364 = ['m3s1','m3s2','m3s3','m3s4','m3s5','m3s6','m3s7','m3s8']\n",
    "m464 = ['m4s1','m4s2','m4s3','m4s4','m4s5','m4s6','m4s7','m4s8']\n",
    "\n",
    "#--------------------------------------------------------------------------------\n",
    "#Kwik files    \n",
    "\n",
    "files20 = [ 'MEAS-150707-1_ele01_ele08.kwik',\n",
    "            'MEAS-150707-1_ele09_ele16.kwik',\n",
    "            'MEAS-150707-1_ele17_ele24.kwik',\n",
    "            'MEAS-150707-1_ele25_ele32.kwik',\n",
    "            'MEAS-150707-23_ele01_ele08.kwik',\n",
    "            'MEAS-150707-23_ele16_ele09.kwik']#,\n",
    "            #'MEAS-150707-23_ele17_ele24.kwik',  not in S2\n",
    "            #'MEAS-150707-23_ele25_ele32.kwik',] not in S2\n",
    "\n",
    "files22 = [ 'MEAS-150716-12_ele01_ele08.kwik',\n",
    "            'MEAS-150716-12_ele09_ele16.kwik',\n",
    "            'MEAS-150716-12_ele17_ele24.kwik',\n",
    "            'MEAS-150716-12_ele25_ele32.kwik',\n",
    "            'MEAS-150716-3_ele01_ele08.kwik',\n",
    "            'MEAS-150716-3_ele09_ele16.kwik',\n",
    "            'MEAS-150716-3_ele17_ele24.kwik',\n",
    "            'MEAS-150716-3_ele25_ele32.kwik',]\n",
    "\n",
    "files23 = [ 'MEAS-151027-1_ele01_ele08.kwik',\n",
    "            'MEAS-151027-1_ele09_ele16.kwik',\n",
    "            #'MEAS-151027-1_ele17_ele24.kwik', out of S2\n",
    "            #'MEAS-151027-1_ele25_ele32.kwik', out of S2\n",
    "            #'MEAS-151027-1_ele33_ele40.kwik', out of S2\n",
    "            #'MEAS-151027-1_ele41_ele48.kwik', out of S2\n",
    "            #'MEAS-151027-1_ele49_ele56.kwik', out of S2\n",
    "            #'MEAS-151027-1_ele57_ele64.kwik', out of S2\n",
    "            'MEAS-151027-2_ele01_ele08.kwik',\n",
    "            'MEAS-151027-2_ele09_ele16.kwik',\n",
    "            'MEAS-151027-2_ele17_ele24.kwik',\n",
    "            'MEAS-151027-2_ele25_ele32.kwik',\n",
    "            'MEAS-151027-2_ele33_ele40.kwik']#,\n",
    "            #'MEAS-151027-2_ele41_ele48.kwik',  out of S2\n",
    "            #'MEAS-151027-2_ele49_ele56.kwik',  out of S2\n",
    "            #'MEAS-151027-2_ele57_ele64.kwik']  out of S2\n",
    "\n",
    "files24 = [#'MEAS-151103-1_EXTRACTED_ele25_ele32.kwik',  no functional responses\n",
    "           'MEAS-151103-1_EXTRACTED_ele33_ele40.kwik',  \n",
    "           'MEAS-151103-1_EXTRACTED_ele41_ele48.kwik',  \n",
    "           'MEAS-151103-1_EXTRACTED_ele49_ele56.kwik',  \n",
    "           'MEAS-151103-1_EXTRACTED_ele57_ele64.kwik',\n",
    "           #'MEAS-151103-2_ele33_ele40.kwik',   no units\n",
    "           'MEAS-151103-2_ele41_ele48.kwik',\n",
    "           'MEAS-151103-2_ele49_ele56.kwik',\n",
    "           'MEAS-151103-2_ele57_ele64.kwik']\n",
    "\n",
    "#OUT OF S2\n",
    "#files25 = [ 'MEAS-151105-1good_ele01_ele08.kwik',\n",
    "#            'MEAS-151105-1good_ele09_ele16.kwik',\n",
    "#            'MEAS-151105-1good_ele17_ele24.kwik',\n",
    "#            'MEAS-151105-1good_ele25_ele32.kwik',\n",
    "#            'MEAS-151105-1good_ele33_ele40.kwik',\n",
    "#            'MEAS-151105-1good_ele41_ele48.kwik',\n",
    "#            'MEAS-151105-1good_ele49_ele56.kwik',\n",
    "#            'MEAS-151105-1good_ele57_ele64.kwik',\n",
    "#            'MEAS-151105-2_ele01_ele08.kwik',\n",
    "#            'MEAS-151105-2_ele09_ele16.kwik',\n",
    "#            'MEAS-151105-2_ele17_ele24.kwik',\n",
    "#            'MEAS-151105-2_ele25_ele32.kwik',\n",
    "#            'MEAS-151105-2_ele33_ele40.kwik',\n",
    "#            'MEAS-151105-2_ele41_ele48.kwik',\n",
    "#            'MEAS-151105-2_ele49_ele56.kwik',\n",
    "#            'MEAS-151105-2_ele57_ele64.kwik']\n",
    "\n",
    "files26 = [ 'MEAS-151110-1_ele01_ele08.kwik',\n",
    "            'MEAS-151110-1_ele09_ele16.kwik',\n",
    "            'MEAS-151110-1_ele17_ele24.kwik',\n",
    "            'MEAS-151110-1_ele25_ele32.kwik',\n",
    "            'MEAS-151110-1_ele33_ele40.kwik',\n",
    "            'MEAS-151110-1_ele41_ele48.kwik',\n",
    "            'MEAS-151110-1_ele49_ele56.kwik',\n",
    "            #'MEAS-151110-1_ele57_ele64.kwik', out of S2\n",
    "            'MEAS-151110-2_ele01_ele08.kwik',\n",
    "            'MEAS-151110-2_ele09_ele16.kwik',\n",
    "            'MEAS-151110-2_ele17_ele24.kwik',\n",
    "            'MEAS-151110-2_ele25_ele32.kwik']#,\n",
    "            #'MEAS-151110-2_ele33_ele40.kwik',  no units\n",
    "            #'MEAS-151110-2_ele41_ele48.kwik', out of S2\n",
    "            #'MEAS-151110-2_ele49_ele56.kwik', no units\n",
    "            #'MEAS-151110-2_ele57_ele64.kwik', no units\n",
    "            #'MEAS-151110-3_ele01_ele08.kwik',  out of S2\n",
    "            #'MEAS-151110-3_ele09_ele16.kwik',  out of S2\n",
    "            #'MEAS-151110-3_ele17_ele24.kwik',  out of S2\n",
    "            #'MEAS-151110-3_ele25_ele32.kwik',  out of S2\n",
    "            #'MEAS-151110-3_ele33_ele40.kwik',  out of S2\n",
    "            #'MEAS-151110-3_ele41_ele48.kwik',  out of S2\n",
    "            #'MEAS-151110-3_ele49_ele56.kwik',  no units\n",
    "            #'MEAS-151110-3_ele57_ele64.kwik']  no units\n",
    "\n",
    "files27  = ['MEAS-151112-1_ele01_ele08.kwik',\n",
    "            'MEAS-151112-1_ele09_ele16.kwik',\n",
    "            'MEAS-151112-1_ele17_ele24.kwik',\n",
    "            'MEAS-151112-1_ele25_ele32.kwik',\n",
    "            'MEAS-151112-1_ele33_ele40.kwik',\n",
    "            'MEAS-151112-1_ele41_ele48.kwik',\n",
    "            'MEAS-151112-1_ele49_ele56.kwik',\n",
    "            'MEAS-151112-1_ele57_ele64.kwik',\n",
    "            'MEAS-151112-2_ele01_ele08.kwik',\n",
    "            'MEAS-151112-2_ele09_ele16.kwik',\n",
    "            'MEAS-151112-2_ele17_ele24.kwik',\n",
    "            'MEAS-151112-2_ele25_ele32.kwik',\n",
    "            'MEAS-151112-2_ele33_ele40.kwik',\n",
    "            'MEAS-151112-2_ele41_ele48.kwik',\n",
    "            'MEAS-151112-2_ele49_ele56.kwik',\n",
    "            'MEAS-151112-2_ele57_ele64.kwik',\n",
    "            'MEAS-151112-3_ele01_ele08.kwik',\n",
    "            'MEAS-151112-3_ele09_ele16.kwik',\n",
    "            'MEAS-151112-3_ele17_ele24.kwik',\n",
    "            'MEAS-151112-3_ele25_ele32.kwik',\n",
    "            'MEAS-151112-3_ele33_ele40.kwik',\n",
    "            'MEAS-151112-3_ele41_ele48.kwik',\n",
    "            'MEAS-151112-3_ele49_ele56.kwik',\n",
    "            'MEAS-151112-3_ele57_ele64.kwik']\n",
    "\n",
    "files28 =  ['MEAS-151116-1_ele01_ele08.kwik',\n",
    "            'MEAS-151116-1_ele09_ele16.kwik',\n",
    "            'MEAS-151116-1_ele17_ele24.kwik',\n",
    "            'MEAS-151116-1_ele25_ele32.kwik',\n",
    "            'MEAS-151116-1_ele33_ele40.kwik',\n",
    "            'MEAS-151116-1_ele41_ele48.kwik',\n",
    "            'MEAS-151116-1_ele49_ele56.kwik',\n",
    "            #'MEAS-151116-1_ele57_ele64.kwik',\n",
    "            'MEAS-151116-2_ele01_ele08.kwik',\n",
    "            'MEAS-151116-2_ele09_ele16.kwik',\n",
    "            'MEAS-151116-2_ele17_ele24.kwik',\n",
    "            'MEAS-151116-2_ele25_ele32.kwik',\n",
    "            'MEAS-151116-2_ele33_ele40.kwik',\n",
    "            'MEAS-151116-2_ele41_ele48.kwik',\n",
    "            'MEAS-151116-2_ele49_ele56.kwik',\n",
    "            'MEAS-151116-2_ele57_ele64.kwik',\n",
    "            'MEAS-151116-3_ele01_ele08.kwik',\n",
    "            'MEAS-151116-3_ele09_ele16.kwik',\n",
    "            'MEAS-151116-3_ele17_ele24.kwik',\n",
    "            'MEAS-151116-3_ele25_ele32.kwik',\n",
    "            'MEAS-151116-3_ele33_ele40.kwik',\n",
    "            'MEAS-151116-3_ele41_ele48.kwik',\n",
    "            'MEAS-151116-3_ele49_ele56.kwik',\n",
    "            'MEAS-151116-3_ele57_ele64.kwik']\n",
    "\n",
    "files29  = ['MEAS-151118-1_ele01_ele08.kwik',\n",
    "            'MEAS-151118-1_ele09_ele16.kwik',\n",
    "            'MEAS-151118-1_ele17_ele24.kwik',\n",
    "            'MEAS-151118-1_ele25_ele32.kwik',\n",
    "            'MEAS-151118-1_ele33_ele40.kwik',\n",
    "            'MEAS-151118-1_ele41_ele48.kwik',\n",
    "            'MEAS-151118-1_ele49_ele56.kwik',\n",
    "            'MEAS-151118-1_ele57_ele64.kwik',\n",
    "            'MEAS-151118-2_ele01_ele08.kwik',\n",
    "            'MEAS-151118-2_ele09_ele16.kwik',\n",
    "            'MEAS-151118-2_ele17_ele24.kwik',\n",
    "            'MEAS-151118-2_ele25_ele32.kwik',\n",
    "            'MEAS-151118-2_ele33_ele40.kwik',\n",
    "            'MEAS-151118-2_ele41_ele48.kwik',\n",
    "            'MEAS-151118-2_ele49_ele56.kwik',\n",
    "            'MEAS-151118-2_ele57_ele64.kwik',\n",
    "            'MEAS-151118-3_ele01_ele08.kwik',\n",
    "            'MEAS-151118-3_ele09_ele16.kwik',\n",
    "            'MEAS-151118-3_ele17_ele24.kwik',\n",
    "            'MEAS-151118-3_ele25_ele32.kwik',\n",
    "            'MEAS-151118-3_ele33_ele40.kwik',\n",
    "            'MEAS-151118-3_ele41_ele48.kwik',\n",
    "            'MEAS-151118-3_ele49_ele56.kwik',\n",
    "            'MEAS-151118-3_ele57_ele64.kwik']\n",
    "\n",
    "\n",
    "files30  = ['MEAS-151208-2_ele01_ele08.kwik',\n",
    "            'MEAS-151208-2_ele09_ele16.kwik',\n",
    "            'MEAS-151208-2_ele17_ele24.kwik',\n",
    "            'MEAS-151208-2_ele25_ele32.kwik',\n",
    "            'MEAS-151208-2_ele33_ele40.kwik',\n",
    "            'MEAS-151208-2_ele41_ele48.kwik',\n",
    "            'MEAS-151208-2_ele49_ele56.kwik',\n",
    "            'MEAS-151208-2_ele57_ele64.kwik',\n",
    "            'MEAS-151208-3_ele01_ele08.kwik',\n",
    "            'MEAS-151208-3_ele09_ele16.kwik',\n",
    "            'MEAS-151208-3_ele17_ele24.kwik',\n",
    "            'MEAS-151208-3_ele25_ele32.kwik',\n",
    "            'MEAS-151208-3_ele33_ele40.kwik',\n",
    "            'MEAS-151208-3_ele41_ele48.kwik',\n",
    "            'MEAS-151208-3_ele49_ele56.kwik',\n",
    "            'MEAS-151208-3_ele57_ele64.kwik',\n",
    "            'MEAS-151208-4_ele01_ele08.kwik',\n",
    "            'MEAS-151208-4_ele09_ele16.kwik',\n",
    "            'MEAS-151208-4_ele17_ele24.kwik',\n",
    "            'MEAS-151208-4_ele25_ele32.kwik',\n",
    "            'MEAS-151208-4_ele33_ele40.kwik',\n",
    "            'MEAS-151208-4_ele41_ele48.kwik',\n",
    "            'MEAS-151208-4_ele49_ele56.kwik',\n",
    "            'MEAS-151208-4_ele57_ele64.kwik',\n",
    "            'MEAS-151208-5_ele01_ele08.kwik',\n",
    "            'MEAS-151208-5_ele09_ele16.kwik',\n",
    "            'MEAS-151208-5_ele17_ele24.kwik',\n",
    "            'MEAS-151208-5_ele25_ele32.kwik',\n",
    "            'MEAS-151208-5_ele33_ele40.kwik',\n",
    "            'MEAS-151208-5_ele41_ele48.kwik',\n",
    "            'MEAS-151208-5_ele49_ele56.kwik',\n",
    "            'MEAS-151208-5_ele57_ele64.kwik']\n",
    "\n",
    "\n",
    "files31 = [ #'MEAS-151210-1_ele01_ele08.kwik',  no units\n",
    "            #'MEAS-151210-1_ele09_ele16.kwik',  no units\n",
    "            #'MEAS-151210-1_ele17_ele24.kwik',  no units\n",
    "            #'MEAS-151210-1_ele25_ele32.kwik',  no units\n",
    "            #'MEAS-151210-1_ele33_ele40.kwik',  no units\n",
    "            'MEAS-151210-1_ele41_ele48.kwik',\n",
    "            'MEAS-151210-1_ele49_ele56.kwik',\n",
    "            'MEAS-151210-1_ele57_ele64.kwik',\n",
    "            #'MEAS-151210-2_ele01_ele08.kwik',   out of S2\n",
    "            #'MEAS-151210-2_ele09_ele16.kwik',   out of S2\n",
    "            #'MEAS-151210-2_ele17_ele24.kwik',   out of S2\n",
    "            #'MEAS-151210-2_ele25_ele32.kwik',   out of S2\n",
    "            'MEAS-151210-2_ele33_ele40.kwik',\n",
    "            'MEAS-151210-2_ele41_ele48.kwik',\n",
    "            'MEAS-151210-2_ele49_ele56.kwik',\n",
    "            'MEAS-151210-2_ele57_ele64.kwik',\n",
    "            #'MEAS-151210-3_ele01_ele08.kwik',   out of S2\n",
    "            #'MEAS-151210-3_ele09_ele16.kwik',   no units\n",
    "            #'MEAS-151210-3_ele17_ele24.kwik',   no units\n",
    "            #'MEAS-151210-3_ele25_ele32.kwik',   out of S2\n",
    "            'MEAS-151210-3_ele33_ele40.kwik',\n",
    "            'MEAS-151210-3_ele41_ele48.kwik',\n",
    "            'MEAS-151210-3_ele49_ele56.kwik',\n",
    "            'MEAS-151210-3_ele57_ele64.kwik']\n",
    "\n",
    "files32 = [ 'MEAS-151214-1_ele01_ele08.kwik',\n",
    "            'MEAS-151214-1_ele09_ele16.kwik',\n",
    "            'MEAS-151214-1_ele17_ele24.kwik',\n",
    "            'MEAS-151214-1_ele25_ele32.kwik',\n",
    "            'MEAS-151214-1_ele33_ele40.kwik',\n",
    "            'MEAS-151214-2_ele01_ele08.kwik',\n",
    "            'MEAS-151214-2_ele09_ele16.kwik',\n",
    "            'MEAS-151214-2_ele17_ele24.kwik',\n",
    "            'MEAS-151214-2_ele25_ele32.kwik',\n",
    "            'MEAS-151214-2_ele33_ele40.kwik']\n",
    "\n",
    "#--------------------------------------------------------------------------------\n",
    "#--------------------------------------------------------------------------------\n",
    "# Here I create my dictionary of experiments\n",
    "Expe={}\n",
    "for num in ExpeNum: \n",
    "    Expe[num] = dict()\n",
    "#---------------------------------------\n",
    "i=0        \n",
    "for meas in np.append(m164[0:4],m364[0:2]):\n",
    "    Expe[20][meas] = files20[i]\n",
    "    i+=1\n",
    "#---------------------------------------\n",
    "i=0 \n",
    "for meas in np.append(m164[0:4],m364[0:4]):\n",
    "    Expe[22][meas] = files22[i]\n",
    "    i+=1\n",
    "#---------------------------------------\n",
    "i=0 \n",
    "for meas in np.append(m164[0:2],m264[0:5]):\n",
    "    Expe[23][meas] = files23[i]\n",
    "    i+=1\n",
    "#---------------------------------------\n",
    "i=0\n",
    "for meas in np.append(m164[4:8],m264[5:8]):    \n",
    "    Expe[24][meas] = files24[i]\n",
    "    i+=1\n",
    "#---------------------------------------\n",
    "#i=0 \n",
    "#for meas in np.append(m164,m264):    \n",
    "#    Expe[25][meas] = files25[i]\n",
    "#    i+=1\n",
    "#---------------------------------------\n",
    "i=0\n",
    "for meas in np.append(m164[0:7],m264[0:4]):\n",
    "    Expe[26][meas] = files26[i]\n",
    "    i+=1\n",
    "#---------------------------------------\n",
    "i=0\n",
    "for meas in np.append(np.append(m164[0:7],m264),m364):    \n",
    "    Expe[28][meas] = files28[i]\n",
    "    i+=1\n",
    "#---------------------------------------    \n",
    "i=0\n",
    "for meas in np.append(np.append(m164,m264),m364):    \n",
    "    Expe[27][meas] = files27[i]\n",
    "    Expe[29][meas] = files29[i]\n",
    "    Expe[30][meas] = files30[i]\n",
    "    i+=1\n",
    "#---------------------------------------    \n",
    "for meas in m464:\n",
    "    Expe[30][meas] = files30[i]\n",
    "    i+=1\n",
    "i=0\n",
    "#---------------------------------------    \n",
    "i=0\n",
    "for meas in np.append(np.append(m164[5:8],m264[4:8]),m364[4:8]):    \n",
    "    Expe[31][meas] = files31[i]\n",
    "    i+=1\n",
    "i=0\n",
    "#---------------------------------------    \n",
    "for meas in np.append(m164[0:5],m264[0:5]):\n",
    "    Expe[32][meas] = files32[i]\n",
    "    i+=1\n",
    "\n",
    "#--------------------------------------------------------------------------------\n",
    "#Initialize wave features dictionary\n",
    "Wavedata = dict()\n",
    "\n",
    "\n",
    "#--------------------------------------------------------------------------------\n",
    "#Root folder to work in, such all will be in subfolders \n",
    "fileswaves={}\n",
    "\n",
    "FolderWaves = '/home/matias/WORKSPACE/S2_git/'    \n",
    "for i in ExpeNum:\n",
    "    fileswaves[i] = 'wavedata' + str(i)"
   ]
  },
  {
   "cell_type": "markdown",
   "metadata": {},
   "source": [
    "# DISPLAYING FUNCTIONS"
   ]
  },
  {
   "cell_type": "code",
   "execution_count": 177,
   "metadata": {
    "collapsed": false
   },
   "outputs": [],
   "source": [
    "#----------------------------------------------------------------------------------------\n",
    "# DISPLAY PSTH \n",
    "#----------------------------------------------------------------------------------------\n",
    "# Plot a single neuron PSTH, 25 piezos\n",
    "def display_waves(expe,wavedata,fig,inner_grid,neuron) :\n",
    "    \n",
    "                \n",
    "    fig2 = figure()\n",
    "    ax = fig2.add_subplot(1,1,1)\n",
    "        \n",
    "    electrodes = [0,7,1,6,2,5,3,4]\n",
    "    eleclinear = [2,6,1,5,3,7,0,4]\n",
    "    #[2,1,3,0,4,7,5,6]\n",
    "    #---------------------------------\n",
    "    \n",
    "    buzsaki= True\n",
    "    if int(expe)==20: buzsaki = False\n",
    "    \n",
    "    if buzsaki:\n",
    "        elec = electrodes\n",
    "    else:\n",
    "        elec = eleclinear\n",
    "    #---------------------------------\n",
    "    i=0\n",
    "    origin=0\n",
    "    \n",
    "    for i in range(8) :\n",
    "        if i==0:\n",
    "            #ax1 = subplot(5,5,1, frame_on=False)\n",
    "            ax1 = Subplot(fig, inner_grid[i])     \n",
    "            ax1.set_xticks([])\n",
    "            #ax1.set_yticks([])\n",
    "            ax1.spines['right'].set_visible(False)\n",
    "            ax1.spines['top'].set_visible(False)\n",
    "            #ax1.spines['left'].set_visible(False)\n",
    "            ax1.spines['bottom'].set_visible(False)\n",
    "            ax1.set_yticklabels([])\n",
    "        else :\n",
    "            #subplot(5,5,i+1,sharex=ax1,sharey=ax1,frame_on=False)\n",
    "            ax1 = Subplot(fig,inner_grid[i],sharex=ax1,sharey=ax1)\n",
    "            ax1.set_xticks([])\n",
    "            #ax1.set_yticks([])\n",
    "            ax1.spines['right'].set_visible(False)\n",
    "            ax1.spines['top'].set_visible(False)\n",
    "            #ax1.spines['left'].set_visible(False)\n",
    "            ax1.spines['bottom'].set_visible(False)\n",
    "            ax1.set_yticklabels([])\n",
    "    \n",
    "    \n",
    "        ax.set_aspect(1)\n",
    "    \n",
    "        m =wavedata.meanwave[:,elec[i]]\n",
    "        s =wavedata.stdwave[:,elec[i]]\n",
    "            \n",
    "        #m=m-m[0]\n",
    "        step=100\n",
    "        if buzsaki:\n",
    "            if i%2==1:\n",
    "                m=m-step\n",
    "                origin = (-step)\n",
    "            else: \n",
    "                m=m+step\n",
    "                origin =step\n",
    "\n",
    "        if m.size :\n",
    "            ax1.plot(arange(48),m,color='red')\n",
    "\n",
    "            #ax1.plot(arange(48),origin+0*arange(48),color='k')\n",
    "            ax1.plot(arange(48),m+s,color='gray')\n",
    "            ax1.plot(arange(48),m-s,color='gray')     \n",
    "\n",
    "        ax1.axhline(origin, color = 'k', linewidth=1)\n",
    "        \n",
    "        ax1.set_xlim([0, 47])\n",
    "        ax1.set_ylim([-600, 400])\n",
    "            \n",
    "        if i ==0: ax1.set_title('                Nrn' + str(neuron[12:]) ,fontsize=9)\n",
    "                                                 \n",
    "        fig.add_subplot(ax1)\n",
    "\n",
    "#----------------------------------------------------------------------------------------\n",
    "def display_all_Waves_of_recording(expe,wavedata,neuron_list,counts,pdf_files_directory,grupete,titles) :\n",
    "    \n",
    "    fig = plt.figure(figsize=(12,16.5))\n",
    "    nrns = counts\n",
    "    if nrns <32: \n",
    "        layout = [5,6]\n",
    "    else: layout = [nrns//6+(nrns%6!=0),6]\n",
    "    outer_grid = gridspec.GridSpec(layout[0], layout[1], wspace=0.2, hspace=0.2)\n",
    "    \n",
    "    ii=0\n",
    "       \n",
    "    orderneurons = neuron_list #np.sort(list(histdata.keys()))\n",
    "    for neuron in  orderneurons:\n",
    "        \n",
    "        clf()\n",
    "                    \n",
    "        inner_grid = gridspec.GridSpecFromSubplotSpec(4,2,subplot_spec=outer_grid[ii], wspace=0.1, hspace=0.1)\n",
    "               \n",
    "        display_waves(expe,wavedata[neuron],fig,inner_grid,neuron)                               \n",
    "        \n",
    "        fig.suptitle(titles + '_WaveMeans' ,fontsize=16)\n",
    "        \n",
    "        ii+=1\n",
    "        \n",
    "        fig.savefig(pdf_files_directory + titles + '_waveforms.pdf', format='pdf')\n",
    "        \n",
    "    clf()\n",
    "\n"
   ]
  },
  {
   "cell_type": "markdown",
   "metadata": {},
   "source": [
    "# Define and load data files from experiments"
   ]
  },
  {
   "cell_type": "code",
   "execution_count": 176,
   "metadata": {
    "collapsed": false
   },
   "outputs": [
    {
     "name": "stdout",
     "output_type": "stream",
     "text": [
      "20\n",
      "   loading waves\n",
      "group: 2\n",
      "m1s1\n",
      "   #clusters:  1\n",
      "   plotting\n",
      "m1s2\n",
      "   #clusters:  0\n",
      "   plotting\n",
      "m1s3\n",
      "   #clusters:  2\n",
      "   plotting\n",
      "m1s4\n",
      "   #clusters:  5\n",
      "   plotting\n",
      "m3s1\n",
      "   #clusters:  0\n",
      "   plotting\n",
      "m3s2\n",
      "   #clusters:  3\n",
      "   plotting\n"
     ]
    },
    {
     "data": {
      "image/png": "[encoded data removed]",
      "text/plain": [
       "<matplotlib.figure.Figure at 0x7f43d6330e10>"
      ]
     },
     "metadata": {},
     "output_type": "display_data"
    },
    {
     "data": {
      "text/plain": [
       "<matplotlib.figure.Figure at 0x7f43ce9b6d30>"
      ]
     },
     "metadata": {},
     "output_type": "display_data"
    },
    {
     "data": {
      "text/plain": [
       "<matplotlib.figure.Figure at 0x7f43d8ac9470>"
      ]
     },
     "metadata": {},
     "output_type": "display_data"
    },
    {
     "data": {
      "image/png": "[encoded data removed]",
      "text/plain": [
       "<matplotlib.figure.Figure at 0x7f43e1ea4ef0>"
      ]
     },
     "metadata": {},
     "output_type": "display_data"
    },
    {
     "data": {
      "text/plain": [
       "<matplotlib.figure.Figure at 0x7f43da498780>"
      ]
     },
     "metadata": {},
     "output_type": "display_data"
    },
    {
     "data": {
      "text/plain": [
       "<matplotlib.figure.Figure at 0x7f43ce513b00>"
      ]
     },
     "metadata": {},
     "output_type": "display_data"
    },
    {
     "data": {
      "image/png": "[encoded data removed]",
      "text/plain": [
       "<matplotlib.figure.Figure at 0x7f43d229fa58>"
      ]
     },
     "metadata": {},
     "output_type": "display_data"
    },
    {
     "data": {
      "text/plain": [
       "<matplotlib.figure.Figure at 0x7f43cb6f6ef0>"
      ]
     },
     "metadata": {},
     "output_type": "display_data"
    },
    {
     "data": {
      "text/plain": [
       "<matplotlib.figure.Figure at 0x7f43d0d9f198>"
      ]
     },
     "metadata": {},
     "output_type": "display_data"
    },
    {
     "data": {
      "text/plain": [
       "<matplotlib.figure.Figure at 0x7f43cec5d8d0>"
      ]
     },
     "metadata": {},
     "output_type": "display_data"
    },
    {
     "data": {
      "text/plain": [
       "<matplotlib.figure.Figure at 0x7f43cec841d0>"
      ]
     },
     "metadata": {},
     "output_type": "display_data"
    },
    {
     "data": {
      "text/plain": [
       "<matplotlib.figure.Figure at 0x7f43d80574e0>"
      ]
     },
     "metadata": {},
     "output_type": "display_data"
    },
    {
     "data": {
      "text/plain": [
       "<matplotlib.figure.Figure at 0x7f43e0f56f98>"
      ]
     },
     "metadata": {},
     "output_type": "display_data"
    },
    {
     "data": {
      "image/png": "[encoded data removed]",
      "text/plain": [
       "<matplotlib.figure.Figure at 0x7f43cf604470>"
      ]
     },
     "metadata": {},
     "output_type": "display_data"
    },
    {
     "data": {
      "text/plain": [
       "<matplotlib.figure.Figure at 0x7f43d34ca0b8>"
      ]
     },
     "metadata": {},
     "output_type": "display_data"
    },
    {
     "data": {
      "text/plain": [
       "<matplotlib.figure.Figure at 0x7f43e1afe048>"
      ]
     },
     "metadata": {},
     "output_type": "display_data"
    },
    {
     "data": {
      "text/plain": [
       "<matplotlib.figure.Figure at 0x7f43e1ee0550>"
      ]
     },
     "metadata": {},
     "output_type": "display_data"
    }
   ],
   "source": [
    "global binname, textname\n",
    "#---------------------------------------------------------------------------------------\n",
    "SelExp = [20]   #Expe                                        #select experiment numbers!\n",
    "grupete = [2]   #select cluster groups! 2 for good clusters 1 for multiunits, 3 for unsorted\n",
    "\n",
    "#select measurement and/or shanks!\n",
    "Measurements = m364[0:2]           #['m1s1']#['m3s1','m3s3']#m12[-4:]#['m1s1','m1s2','m1s3','m1s4']   \n",
    "\n",
    "# choice code not to ploteverything at the same time\n",
    "ploteo = [0,0,0,0]                                           #1 to make plots: psth,sta,ufc,stc\n",
    "\n",
    "dirs =[]\n",
    "\n",
    "#--------------------------------------------------------------------------------\n",
    "# Loop Experiments\n",
    "#--------------------------------------------------------------------------------\n",
    "last_exp=0     #we use this to load stim only when we change experiment\n",
    "for expe in SelExp:\n",
    "    #uncomment if we want a whole file for all the experiments\n",
    "    Wavedata = dict()\n",
    "    \n",
    "    Measurements = sorted(Expe[expe])                         #uncommento to select all\n",
    "    print(expe)\n",
    "    \n",
    "    #load datafile\n",
    "    print('   loading waves')\n",
    "    #------------------------------------------------\n",
    "    data = Folder +'/'+ fileswaves[expe]    \n",
    "    Wavedata.update(load_obj(data))\n",
    "\n",
    "    #--------------------------------------------------------------------------------\n",
    "    #loop goodunits\n",
    "    for group in grupete:   #2 for good clusters 1 for multiunits 3 for unsorted\n",
    "        #folder names\n",
    "        if group ==2:\n",
    "            dirs  = [rootF + 'OUTPUT/PDFwaves/EXP_'+str(expe)]\n",
    "        print('group:', group)\n",
    "        #--------------------------------------------------------------------------------\n",
    "        #loop measurements and shanks\n",
    "        measurements = Expe[expe]                            \n",
    "                 \n",
    "        for meas in Measurements:           \n",
    "            print(meas)\n",
    "            \n",
    "            idx = []\n",
    "            neuron_list = []\n",
    "            count_meas =0\n",
    "            #---------------------------------------------------------------\n",
    "            #Count number of clusters within this measurement and shank\n",
    "            idx = sorted(list(Wavedata.keys()))\n",
    "            \n",
    "            for cluster in idx:\n",
    "                if Wavedata[cluster].meas == int(meas[1]) and Wavedata[cluster].exp ==expe and Wavedata[cluster].shank == int(meas[3]):\n",
    "                    neuron_list = np.append(neuron_list, cluster)\n",
    "                    count_meas+=1\n",
    "            \n",
    "            print('   #clusters: ',count_meas)\n",
    "            #---------------------------------------------------------------\n",
    "            #load stimulus if looping new experiment, without trimming\n",
    "           \n",
    "            if len(Wavedata.keys())>0:                              #do only if there are clusters\n",
    "                #--------------------------------------------------------------------------------\n",
    "                #create output folders\n",
    "                for dir in dirs:\n",
    "                    if not os.path.exists(dir):\n",
    "                        os.makedirs(dir) \n",
    "                dire = dirs[0] +'/'\n",
    "                titles = 'Exp'+ str(expe) + '_Meas_' + meas[1] + '_Shank_' + meas[3]\n",
    "                #--------------------------------------------------------------------------------\n",
    "                #Plot Waves\n",
    "                print('   plotting')\n",
    "                display_all_Waves_of_recording(expe,Wavedata,neuron_list,count_meas,dire,grupete,titles)                   \n",
    "         \n",
    "   "
   ]
  },
  {
   "cell_type": "code",
   "execution_count": 191,
   "metadata": {
    "collapsed": false
   },
   "outputs": [
    {
     "data": {
      "text/plain": [
       "dict_keys(['params', 'electrodemax', 'meas', 'bigwave', 'bigwavestd', 'meanwave', 'exp', 'parnames', 'stdwave', 'waves', 'shank'])"
      ]
     },
     "execution_count": 191,
     "metadata": {},
     "output_type": "execute_result"
    }
   ],
   "source": [
    "a = dict()\n",
    "\n",
    "a.update(load_obj('/home/matias/WORKSPACE/S2_git/data/wavedata20'))\n",
    "         \n",
    "\n",
    "\n",
    "\n",
    "a.update(load_obj('/home/matias/WORKSPACE/S2_git/data/wavedata22'))\n",
    "\n",
    "\n",
    "k = sorted(list(a.keys()    ))\n",
    "\n",
    "\n",
    "a[k[0]].keys()\n"
   ]
  },
  {
   "cell_type": "code",
   "execution_count": 170,
   "metadata": {
    "collapsed": false
   },
   "outputs": [
    {
     "data": {
      "text/plain": [
       "array([ 1.,  1.,  1.,  1.,  1.,  1.,  1.,  1.,  1.,  1.])"
      ]
     },
     "execution_count": 170,
     "metadata": {},
     "output_type": "execute_result"
    }
   ],
   "source": [
    "np.ones(10)"
   ]
  },
  {
   "cell_type": "code",
   "execution_count": 100,
   "metadata": {
    "collapsed": false
   },
   "outputs": [
    {
     "data": {
      "text/plain": [
       "'Exp20_Meas_3_Shank_2'"
      ]
     },
     "execution_count": 100,
     "metadata": {},
     "output_type": "execute_result"
    }
   ],
   "source": [
    "titles\n"
   ]
  },
  {
   "cell_type": "code",
   "execution_count": 78,
   "metadata": {
    "collapsed": false
   },
   "outputs": [
    {
     "data": {
      "text/plain": [
       "True"
      ]
     },
     "execution_count": 78,
     "metadata": {},
     "output_type": "execute_result"
    }
   ],
   "source": [
    "Wavedata[cluster].shan\n",
    "\n"
   ]
  },
  {
   "cell_type": "code",
   "execution_count": null,
   "metadata": {
    "collapsed": false
   },
   "outputs": [],
   "source": [
    "    filesave ='wavedata' + str(expe)\n",
    "    save_obj(Wavedata,filesave)\n",
    "    \n",
    "    >>> x = {'a':1, 'b': 2}\n",
    ">>> y = {'b':10, 'c': 11}\n",
    ">>> z = x.update(y)\n",
    ">>> print z\n",
    "None\n",
    ">>> x\n",
    "{'a': 1, 'b': 10, 'c': 11}"
   ]
  },
  {
   "cell_type": "code",
   "execution_count": 2,
   "metadata": {
    "collapsed": false
   },
   "outputs": [
    {
     "ename": "IndexError",
     "evalue": "list index out of range",
     "output_type": "error",
     "traceback": [
      "\u001b[1;31m---------------------------------------------------------------------------\u001b[0m",
      "\u001b[1;31mIndexError\u001b[0m                                Traceback (most recent call last)",
      "\u001b[1;32m<ipython-input-2-3a46d710146e>\u001b[0m in \u001b[0;36m<module>\u001b[1;34m()\u001b[0m\n\u001b[0;32m     12\u001b[0m \u001b[1;33m\u001b[0m\u001b[0m\n\u001b[0;32m     13\u001b[0m \u001b[0midx\u001b[0m \u001b[1;33m=\u001b[0m \u001b[0mlist\u001b[0m\u001b[1;33m(\u001b[0m\u001b[0msorted\u001b[0m\u001b[1;33m(\u001b[0m\u001b[0mWavedata\u001b[0m\u001b[1;33m.\u001b[0m\u001b[0mkeys\u001b[0m\u001b[1;33m(\u001b[0m\u001b[1;33m)\u001b[0m\u001b[1;33m)\u001b[0m\u001b[1;33m)\u001b[0m\u001b[1;33m\u001b[0m\u001b[0m\n\u001b[1;32m---> 14\u001b[1;33m \u001b[0midx\u001b[0m\u001b[1;33m[\u001b[0m\u001b[1;36m0\u001b[0m\u001b[1;33m]\u001b[0m\u001b[1;33m\u001b[0m\u001b[0m\n\u001b[0m\u001b[0;32m     15\u001b[0m \u001b[1;33m\u001b[0m\u001b[0m\n\u001b[0;32m     16\u001b[0m \u001b[0mprint\u001b[0m\u001b[1;33m(\u001b[0m\u001b[1;34m'keys: '\u001b[0m\u001b[1;33m,\u001b[0m\u001b[0mWavedata\u001b[0m\u001b[1;33m[\u001b[0m\u001b[0midx\u001b[0m\u001b[1;33m[\u001b[0m\u001b[1;36m0\u001b[0m\u001b[1;33m]\u001b[0m\u001b[1;33m]\u001b[0m\u001b[1;33m.\u001b[0m\u001b[0mkeys\u001b[0m\u001b[1;33m(\u001b[0m\u001b[1;33m)\u001b[0m\u001b[1;33m)\u001b[0m\u001b[1;33m\u001b[0m\u001b[0m\n",
      "\u001b[1;31mIndexError\u001b[0m: list index out of range"
     ]
    }
   ],
   "source": [
    "\n",
    "\n",
    "\n",
    "\n",
    "idx = list(sorted(Wavedata.keys()))\n",
    "idx[0]\n",
    "\n",
    "print('keys: ',Wavedata[idx[0]].keys())\n",
    "\n",
    "print('parnames: ',Wavedata[idx[0]].params_names)\n",
    "\n",
    "print('firstidx: ' ,idx[0])\n",
    "\n",
    "print('number of idx: ',len(idx))\n",
    "\n",
    "print('params: ',Wavedata[idx[0]].params)\n",
    "\n",
    "print(Wavedata.keys())\n",
    "\n",
    "neuron=0\n",
    "\n",
    "electrode = Wavedata[idx[neuron]].electrodemax\n",
    "\n",
    "plot(Wavedata[idx[neuron]].bigwave)\n",
    "plot(Wavedata[idx[neuron]].bigwave+Wavedata[idx[neuron]].bigwavestd)\n",
    "plot(Wavedata[idx[neuron]].bigwave-Wavedata[idx[neuron]].bigwavestd)\n",
    "\n",
    "wave0 = Wavedata[idx[0]]\n",
    "\n",
    "wave0.bigwave\n",
    "\n",
    "#print(wave0.waves.shape)\n",
    "\n",
    "wave0.params\n",
    "\n",
    "print(idx)"
   ]
  },
  {
   "cell_type": "code",
   "execution_count": null,
   "metadata": {
    "collapsed": false
   },
   "outputs": [],
   "source": [
    "save_obj(Wavedata,'wavedata220')\n",
    "\n",
    "neuron='12'\n",
    "\n"
   ]
  },
  {
   "cell_type": "code",
   "execution_count": null,
   "metadata": {
    "collapsed": false,
    "scrolled": true
   },
   "outputs": [],
   "source": [
    "Wavedata = load_obj('wavedata20')\n",
    "\n",
    "\n"
   ]
  },
  {
   "cell_type": "code",
   "execution_count": null,
   "metadata": {
    "collapsed": false
   },
   "outputs": [],
   "source": [
    "idx = sort(list(Wavedata.keys()))\n",
    "\n",
    "print(Wavedata[idx[0]].keys())\n",
    "\n",
    "Wavedata[idx[0]].params_names\n",
    "\n",
    "Wavedata.keys()"
   ]
  },
  {
   "cell_type": "code",
   "execution_count": 43,
   "metadata": {
    "collapsed": false
   },
   "outputs": [
    {
     "name": "stdout",
     "output_type": "stream",
     "text": [
      "exp22_m1s2_c17\n"
     ]
    },
    {
     "data": {
      "image/png": "[encoded data removed]",
      "text/plain": [
       "<matplotlib.figure.Figure at 0x7f43ec490ba8>"
      ]
     },
     "metadata": {},
     "output_type": "display_data"
    }
   ],
   "source": [
    "#Plotting waveforms\n",
    "\n",
    "import pickle \n",
    "\n",
    "def save_obj(obj, name ):\n",
    "    with open('data/'+ name + '.pkl', 'wb') as f:\n",
    "        pickle.dump(obj, f, pickle.HIGHEST_PROTOCOL)\n",
    "\n",
    "def load_obj(name ):\n",
    "    with open( name + '.pkl', 'rb') as f:\n",
    "        return pickle.load(f)\n",
    "\n",
    "\n",
    "Wavedata = dict()\n",
    "\n",
    "files = ['wavedata20','wavedata22','wavedata23','wavedata24','wavedata26','wavedata27','wavedata28','wavedata29','wavedata30','wavedata31','wavedata32']\n",
    "\n",
    "\n",
    "Folder = '/home/matias/WORKSPACE/S2_git/data'    \n",
    "#------------------------------------------------\n",
    "\n",
    "for file in files[1:2]:\n",
    "\tdata = Folder +'/'+ file    \n",
    "\tWavedata.update(load_obj(data))\n",
    "    \n",
    "idx = sort(list(Wavedata.keys()))\n",
    "\n",
    "neuron = idx[0]\n",
    "\n",
    "print(neuron)\n",
    "\n",
    "fig = figure(figsize=(2,8))\n",
    "\n",
    "pos2 = arange(1,9)\n",
    "\n",
    "electrodes = [0,7,1,6,2,5,3,4]\n",
    "eleclinear = [2,1,3,0,4,7,5,6]\n",
    "\n",
    "buzsaki= True\n",
    "if buzsaki:\n",
    "    elec = electrodes\n",
    "else:\n",
    "    elec = eleclinear\n",
    "\n",
    "i=0\n",
    "origin=0\n",
    "for i in arange(8):\n",
    "    \n",
    "    ax1 = fig.add_subplot(4,2,pos2[i])\n",
    "    \n",
    "    ax1.spines['right'].set_visible(False)\n",
    "    ax1.spines['top'].set_visible(False)\n",
    "    #ax1.spines['left'].set_visible(False)\n",
    "    ax1.spines['bottom'].set_visible(False)\n",
    "   \n",
    "    ax1.set_xlim([0, 48])\n",
    "    ax1.set_ylim([-1200, 400])\n",
    "    \n",
    "    #for x in arange(Spikes[neuron]['spike_times'].shape[0]):\n",
    "    #    ax1.plot(arange(48),wave[neuron]['waves'][x,:,elec[i]],color='b')\n",
    "\n",
    "    m =Wavedata[neuron].meanwave[:,elec[i]]\n",
    "    s =Wavedata[neuron].stdwave[:,elec[i]]\n",
    "    \n",
    "    m=m-m[0]\n",
    "    \n",
    "    #sem= stats.sem (Waves[neuron]['waves'][:,:,elec[i]],axis=0)\n",
    "    step=100\n",
    "    if buzsaki:\n",
    "        if i%2==1:\n",
    "            m=m-step\n",
    "            origin =-step\n",
    "        else: \n",
    "            m=m+step\n",
    "            origin =step\n",
    "    \n",
    "    ax1.plot(arange(48),m,color='red')\n",
    "    \n",
    "    ax1.plot(arange(48),origin+0*arange(48),color='k')\n",
    "    ax1.plot(arange(48),m+s,color='gray')\n",
    "    ax1.plot(arange(48),m-s,color='gray')     \n",
    "    \n",
    "    ax1.set_xticks([])\n",
    "    ax1.set_yticklabels([])\n",
    "      \n",
    "#print(Waves[21656]['waves'][100,:,0])\n",
    "#print(Waves[21656]['waves'].shape)\n",
    "#Spikes[21656]['spike_times'].shape"
   ]
  },
  {
   "cell_type": "code",
   "execution_count": null,
   "metadata": {
    "collapsed": true
   },
   "outputs": [],
   "source": []
  }
 ],
 "metadata": {
  "kernelspec": {
   "display_name": "Python 3",
   "language": "python",
   "name": "python3"
  },
  "language_info": {
   "codemirror_mode": {
    "name": "ipython",
    "version": 3
   },
   "file_extension": ".py",
   "mimetype": "text/x-python",
   "name": "python",
   "nbconvert_exporter": "python",
   "pygments_lexer": "ipython3",
   "version": "3.4.3"
  }
 },
 "nbformat": 4,
 "nbformat_minor": 0
}
