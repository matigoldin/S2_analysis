{
 "cells": [
  {
   "cell_type": "markdown",
   "metadata": {},
   "source": [
    "# Make Histogram PSTH times , which is psthtimesdata.pckl"
   ]
  },
  {
   "cell_type": "markdown",
   "metadata": {},
   "source": [
    "We create all the histogram times from -100 to 100ms for every neuron for every whisker for every direction"
   ]
  },
  {
   "cell_type": "code",
   "execution_count": 1,
   "metadata": {
    "collapsed": false
   },
   "outputs": [
    {
     "name": "stdout",
     "output_type": "stream",
     "text": [
      "Populating the interactive namespace from numpy and matplotlib\n"
     ]
    }
   ],
   "source": [
    " %pylab inline"
   ]
  },
  {
   "cell_type": "code",
   "execution_count": 2,
   "metadata": {
    "collapsed": false
   },
   "outputs": [],
   "source": [
    "from pylab import *\n",
    "from scipy import *\n",
    "from scipy import stats, io\n",
    "import numpy as np\n",
    "import struct\n",
    "import tables as tb\n",
    "from attrdict import AttrDict\n",
    "import matplotlib.pyplot as plt\n",
    "import os as os\n",
    "from phy.io import KwikModel\n",
    "import codecs as codecs\n",
    "import matplotlib.gridspec as gridspec\n",
    "import matplotlib.ticker as mtick\n",
    "\n",
    "import sys\n",
    "sys.path.append('../functions') #this is where we put all the functions.py\n",
    "import exps_files_folders as EFF\n",
    "Expe, Vtags, Stim, rootF, stimFolder = EFF.eff()\n",
    "from save_load import *\n",
    "\n",
    "from PSTH_functions import*\n",
    "\n",
    "%load_ext autoreload\n",
    "%autoreload 1\n",
    "\n",
    "%aimport PSTH_functions\n"
   ]
  },
  {
   "cell_type": "code",
   "execution_count": 5,
   "metadata": {
    "collapsed": false,
    "scrolled": false
   },
   "outputs": [
    {
     "name": "stdout",
     "output_type": "stream",
     "text": [
      "20\n",
      "group: 2\n",
      "m1s1\n",
      "   reading stim at: m1s1\n",
      "   trimming stim at: m1s1\n",
      "   building psths\n",
      "m1s2\n",
      "m1s3\n",
      "   building psths\n",
      "m1s4\n",
      "   building psths\n",
      "m3s1\n",
      "   reading stim at: m3s1\n",
      "   trimming stim at: m3s1\n",
      "m3s2\n",
      "   building psths\n",
      "   saving\n"
     ]
    }
   ],
   "source": [
    "#---------------------------------------------------------------------------------------\n",
    "SelExp = [20]#[23,24,26,27,28,29,30,31,32]#[20,22,23,24,26,27,28,29,30,31,32] #Expe                                        #select experiment numbers!\n",
    "grupete = [2]   #select cluster groups! 2 for good clusters 1 for multiunits, 3 for unsorted\n",
    "\n",
    "#select measurement and/or shanks!\n",
    "#Measurements = m264[7:8]           #['m1s1']#['m3s1','m3s3']#m12[-4:]#['m1s1','m1s2','m1s3','m1s4']   \n",
    "\n",
    "#--------------------------------------------------------------------------------\n",
    "# Loop Experiments\n",
    "#--------------------------------------------------------------------------------\n",
    "last_exp=0     #we use this to load stim only when we change experiment\n",
    "for expe in SelExp:\n",
    "    \n",
    "    PSTHdata = {}\n",
    "    PSTH_spikes_counts = {}\n",
    "    \n",
    "    Measurements = sorted(Expe[expe])                         #uncommento to select all\n",
    "    print(expe)\n",
    "\n",
    "    #This two lines are to account for diffrerent stims when looping diffrerent experiments\n",
    "    binname= stimFolder + Stim[expe] + '/Stimulus_UCC.bin'     \n",
    "    textname=stimFolder + Stim[expe] + '/Stimulus_UCC.txt'\n",
    "    \n",
    "    last_meas =0   #we use this to find when we change measurement to load Vtag and stim again\n",
    "    #--------------------------------------------------------------------------------\n",
    "    #loop goodunits, multiunits, unsorted...\n",
    "    for group in grupete:   #2 for good clusters 1 for multiunits 3 for unsorted\n",
    "      \n",
    "        print('group:', group)\n",
    "        #--------------------------------------------------------------------------------\n",
    "        #loop measurements and shanks\n",
    "        #Measurements = sorted((Expe[expe]))\n",
    "        \n",
    "        for meas in Measurements:           \n",
    "            print(meas)\n",
    "            current_meas = int(meas[1])   #measurement number\n",
    "            #---------------------------------------------------------------\n",
    "            #select datafile\n",
    "            sp_file = rootF + 'EXP_' + str(expe) +'/Spike_Sorting/'+ meas +'/'+ Expe[expe][meas]\n",
    "            #load datafile\n",
    "            Spikes, sampling_freq = readkwikinfo(sp_file, group)  \n",
    "            #---------------------------------------------------------------\n",
    "            #load stimulus if looping new experiment, without trimming\n",
    "            if expe!=last_exp or (expe==20 and meas=='m3s1') or (expe==22 and meas=='m3s1'):\n",
    "                stimraw = []\n",
    "                stimtyperaw=[]\n",
    "                print(\"   reading stim at:\",  meas)\n",
    "                stimraw,stimtyperaw = read_stimulus(expe,meas,binname,textname)\n",
    "\n",
    "            #---------------------------------------------------------------\n",
    "            #load Vtag if looping new measurement\n",
    "            if (last_meas!=current_meas): #or (expe!=last_exp):   \n",
    "                # get Vtag name\n",
    "                measV=int(meas[1])-1\n",
    "                bin_file = rootF + 'EXP_' + str(expe) +'/' + Vtags[expe][measV]\n",
    "                #-----------------------------------------------------------\n",
    "                Vtag1 =[]                \n",
    "                Vtag1 = np.fromfile(file=bin_file, dtype=np.int16)\n",
    "                # here we trim down stim and stimtype from Vtag1 information\n",
    "                print(\"   trimming stim at:\", meas)\n",
    "                stim = []\n",
    "                stimtype=[]\n",
    "                stim, stimtype,starts, stops = readVtag(Vtag1,stimraw,stimtyperaw,sampling_freq)\n",
    "                                          \n",
    "            last_meas = current_meas     #update measurement variable\n",
    "            last_exp = expe              #update experiment variable\n",
    "            \n",
    "            if len(Spikes.keys())>0:                              #do only if there are clusters\n",
    "                #Build PSTHs\n",
    "                t_before = .100  \n",
    "                t_after = .100\n",
    "                \n",
    "                print('   building psths')\n",
    "                PSTH_spikes_counts= BuildPSTH(stim,stimtype, Spikes, sampling_freq, t_before, t_after,starts,stops,expe,meas)\n",
    "           \n",
    "            PSTHdata.update(PSTH_spikes_counts)\n",
    "            #print(sorted(list(PSTHdata.keys())))\n",
    "    \n",
    "    print('   saving')\n",
    "    if group == 2:\n",
    "        filesave =rootF +'S2_git/data/'+'histdata' + str(expe)\n",
    "    else:\n",
    "        filesave =rootF +'S2_git/data/'+ 'psthdataMultiR' + str(expe)\n",
    "        \n",
    "    save_obj(PSTHdata,filesave)"
   ]
  },
  {
   "cell_type": "code",
   "execution_count": 3,
   "metadata": {
    "collapsed": false
   },
   "outputs": [
    {
     "data": {
      "text/plain": [
       "dict_keys(['psth_times', 'meas', 'shank', 'clusnum', 'exp', 'psth_length', 'psth_counts'])"
      ]
     },
     "execution_count": 3,
     "metadata": {},
     "output_type": "execute_result"
    }
   ],
   "source": [
    "Folder = '/home/matias/WORKSPACE/S2_git/data'    \n",
    "\n",
    "file = Folder +'/psthtimesdata20'\n",
    "a = load_obj(file)\n",
    "\n",
    "idx= list(a.keys())\n",
    "n=idx[0]\n",
    "\n",
    "a[n].keys()\n"
   ]
  },
  {
   "cell_type": "code",
   "execution_count": null,
   "metadata": {
    "collapsed": true
   },
   "outputs": [],
   "source": []
  }
 ],
 "metadata": {
  "kernelspec": {
   "display_name": "Python 3",
   "language": "python",
   "name": "python3"
  },
  "language_info": {
   "codemirror_mode": {
    "name": "ipython",
    "version": 3
   },
   "file_extension": ".py",
   "mimetype": "text/x-python",
   "name": "python",
   "nbconvert_exporter": "python",
   "pygments_lexer": "ipython3",
   "version": "3.4.3"
  }
 },
 "nbformat": 4,
 "nbformat_minor": 0
}
