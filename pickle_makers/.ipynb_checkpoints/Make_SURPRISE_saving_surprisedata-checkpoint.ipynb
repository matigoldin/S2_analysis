{
 "cells": [
  {
   "cell_type": "markdown",
   "metadata": {},
   "source": [
    "# Make SURPRISE using psthbinsdata, surpdata.pckl"
   ]
  },
  {
   "cell_type": "markdown",
   "metadata": {},
   "source": [
    "We build surprises for every neuron and save them\n",
    "\n",
    "It is made from 0 to 55ms since after 55ms overlaps with next stimulus response\n",
    "\n",
    "It is made for:\n",
    "    - every neuron\n",
    "    - every whisker\n",
    "    - both directions\n",
    "    - 20 binsizes\n",
    "    "
   ]
  },
  {
   "cell_type": "code",
   "execution_count": 2,
   "metadata": {
    "collapsed": false
   },
   "outputs": [
    {
     "name": "stdout",
     "output_type": "stream",
     "text": [
      "Populating the interactive namespace from numpy and matplotlib\n"
     ]
    }
   ],
   "source": [
    "%pylab inline\n",
    "\n",
    "%load_ext autoreload\n",
    "%autoreload 1"
   ]
  },
  {
   "cell_type": "code",
   "execution_count": 3,
   "metadata": {
    "collapsed": false
   },
   "outputs": [],
   "source": [
    "from pylab import *\n",
    "from scipy import *\n",
    "import numpy as np\n",
    "from attrdict import AttrDict\n",
    "from scipy.stats import poisson\n",
    "\n",
    "import sys\n",
    "sys.path.append('../functions') #this is where we put all the functions.py\n",
    "import exps_files_folders as EFF\n",
    "Expe, Vtags, Stim, rootF, stimFolder = EFF.eff()\n",
    "from save_load import *\n",
    "\n",
    "from surp_functions import*"
   ]
  },
  {
   "cell_type": "code",
   "execution_count": 28,
   "metadata": {
    "collapsed": false
   },
   "outputs": [],
   "source": [
    "%aimport surp_functions\n"
   ]
  },
  {
   "cell_type": "markdown",
   "metadata": {},
   "source": [
    "# Make Surprise"
   ]
  },
  {
   "cell_type": "code",
   "execution_count": 4,
   "metadata": {
    "collapsed": false,
    "scrolled": true
   },
   "outputs": [
    {
     "name": "stdout",
     "output_type": "stream",
     "text": [
      "20\n",
      "   neuron:  exp20_m1s1_c29\n",
      "   neuron:  exp20_m1s3_c120\n",
      "   neuron:  exp20_m1s3_c61\n",
      "   neuron:  exp20_m1s4_c113\n",
      "   neuron:  exp20_m1s4_c73\n",
      "   neuron:  exp20_m1s4_c81\n",
      "   neuron:  exp20_m1s4_c86\n",
      "   neuron:  exp20_m1s4_c92\n",
      "   neuron:  exp20_m3s2_c14\n",
      "   neuron:  exp20_m3s2_c20\n",
      "   neuron:  exp20_m3s2_c22\n",
      "Saving\n"
     ]
    }
   ],
   "source": [
    "global binname, textname\n",
    "#---------------------------------------------------------------------------------------\n",
    "SelExp = [20]#[20,22,23,24,26,27,28,29,30,31,32] #Expe                           #select experiment numbers!\n",
    "\n",
    "Folder = '/home/matias/WORKSPACE/S2_git/data'    \n",
    "\n",
    "#--------------------------------------------------------------------------------\n",
    "# Loop Experiments\n",
    "#--------------------------------------------------------------------------------\n",
    "for expe in SelExp:\n",
    "    print(expe)\n",
    "    \n",
    "    Surprise = {}\n",
    "    #--------------------\n",
    "    # To build Surprise\n",
    "    psthbinsdata = dict()\n",
    "    psthbinsfile = Folder +'/psthbinsdata' + str(expe)\n",
    "    psthdata = load_obj(psthbinsfile)\n",
    "    #--------------------\n",
    "    \n",
    "    idx = sorted(list(psthdata.keys()))\n",
    "    #--------------------------------------------------------------------------------\n",
    "    # loop neurons\n",
    "    #--------------------------------------------------------------------------------\n",
    "    for n in idx[:]:\n",
    "        print('   neuron: ' , n)\n",
    "        clus = psthdata[n].clusnum\n",
    "        meas = psthdata[n].meas\n",
    "        shank = psthdata[n].shank\n",
    "        t_before = -psthdata[n].psth_edges[0]\n",
    "        psth_bins = psthdata[n].psth_data\n",
    "                \n",
    "        base_rate = psthdata[n].blank_rate\n",
    "        if base_rate < 0.15: base_rate = 0.15       #correct for very low firing rate\n",
    "        \n",
    "        #-------------------------------------------------------\n",
    "        Surprise[n] = AttrDict({})\n",
    "        Surprise[n].update({'clusnum': clus, 'exp' : int(expe) , 'meas': meas , 'shank': shank})\n",
    "\n",
    "        #-------------------------------------------------------\n",
    "        # we build the 20 surprises for each of the 25 whiskers and two directions (20x25x2 = 10000)\n",
    "        maxbin = 20   # the maximum bin to compute surprise\n",
    "        surpmin = 5       #minimum latency in ms, so significance is computed from here\n",
    "        surpmax = 55  # the max time for computing surprise, starting from bin with borders (0-1)\n",
    "\n",
    "        Surprise[n].update({'surprise_data' : BuildSurprise(psth_bins,t_before,base_rate,maxbin,surpmax,surpmin)})\n",
    "        #----------------------------------------------------\n",
    "    #print('   printing')\n",
    "    print('Saving')\n",
    "    filesave =Folder +'/surpdata' + str(expe)\n",
    "    save_obj(Surprise,filesave)                 \n",
    " "
   ]
  },
  {
   "cell_type": "code",
   "execution_count": 64,
   "metadata": {
    "collapsed": false
   },
   "outputs": [
    {
     "name": "stdout",
     "output_type": "stream",
     "text": [
      "dict_keys(['Thresh', 'logic_tree_data', 'logic_tree_thresh', 'Data'])\n",
      "Saving\n",
      "dict_keys(['Thresh', 'logic_tree_data', 'logic_tree_thresh', 'Data'])\n",
      "Saving\n"
     ]
    }
   ],
   "source": [
    "# some way of erasing inner dictionary entries we don't use any more\n",
    "Folder = '/home/matias/WORKSPACE/S2_git/data'    \n",
    "for exp in [31,32]:\n",
    "    newdata = {}\n",
    "    filesave =Folder +'/surpdata'+ str(exp)\n",
    "    a = load_obj(filesave)\n",
    "    \n",
    "    idx = list(a.keys())\n",
    "    print(a[idx[0]].surprise_data.keys())\n",
    "    \n",
    "    for n in idx[:]:\n",
    "        \n",
    "        surpdata = a[n].surprise_data\n",
    "        \n",
    "        del surpdata.Thresh\n",
    "        del surpdata.logic_tree_thresh\n",
    "        \n",
    "        del a[n].surprise_data\n",
    "        \n",
    "        a[n].update({'surprise_data' : surpdata})\n",
    "        \n",
    "    #print('Saving')\n",
    "    #save_obj(a,filesave)                 "
   ]
  },
  {
   "cell_type": "code",
   "execution_count": 54,
   "metadata": {
    "collapsed": false
   },
   "outputs": [
    {
     "name": "stdout",
     "output_type": "stream",
     "text": [
      "dict_keys(['clusnum', 'exp', 'meas', 'shank', 'surprise_data'])\n"
     ]
    },
    {
     "data": {
      "text/plain": [
       "dict_keys(['logic_tree_data', 'Data'])"
      ]
     },
     "execution_count": 54,
     "metadata": {},
     "output_type": "execute_result"
    }
   ],
   "source": [
    "print(a[n].keys())\n",
    "a[n].surprise_data.keys()"
   ]
  }
 ],
 "metadata": {
  "kernelspec": {
   "display_name": "Python 3",
   "language": "python",
   "name": "python3"
  },
  "language_info": {
   "codemirror_mode": {
    "name": "ipython",
    "version": 3
   },
   "file_extension": ".py",
   "mimetype": "text/x-python",
   "name": "python",
   "nbconvert_exporter": "python",
   "pygments_lexer": "ipython3",
   "version": "3.4.3"
  }
 },
 "nbformat": 4,
 "nbformat_minor": 0
}
