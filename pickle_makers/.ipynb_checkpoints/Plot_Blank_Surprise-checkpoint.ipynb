{
 "cells": [
  {
   "cell_type": "markdown",
   "metadata": {},
   "source": [
    "# Plot Blank Surprise"
   ]
  },
  {
   "cell_type": "markdown",
   "metadata": {},
   "source": [
    "We load the Blank Surprise and plot it\n",
    "\n",
    "Needs:\n",
    "- Blanksurprise.pckl"
   ]
  },
  {
   "cell_type": "code",
   "execution_count": 2,
   "metadata": {
    "collapsed": false
   },
   "outputs": [
    {
     "name": "stderr",
     "output_type": "stream",
     "text": [
      "/home/matias/miniconda/lib/python3.4/site-packages/matplotlib/figure.py:1653: UserWarning: This figure includes Axes that are not compatible with tight_layout, so its results might be incorrect.\n",
      "  warnings.warn(\"This figure includes Axes that are not \"\n"
     ]
    }
   ],
   "source": [
    "#-------------------------------\n",
    "# Path for loading and saving\n",
    "Folder = '/home/matias/WORKSPACE/S2_git/data'    \n",
    "#PDFfile = '/home/matias/WORKSPACE/OUTPUT/Surprise/BlankSurpriseAll'\n",
    "PDFfile = '/home/matias/WORKSPACE/OUTPUT/Surprise/BlankSurprise'\n",
    "\n",
    "#-------------------------------\n",
    "#-------------------------------\n",
    "import sys\n",
    "sys.path.append('../functions') #this is where we put all the functions.py\n",
    "\n",
    "from matplotlib.pyplot import *\n",
    "import matplotlib.gridspec as gridspec\n",
    "from numpy import *\n",
    "\n",
    "import save_load as SL\n",
    "#-------------------------------\n",
    "#-------------------------------\n",
    "\n",
    "#data = Folder + '/BlanksurpriseAll'\n",
    "data = Folder + '/Blanksurprise'\n",
    "a = SL.load_obj(data)\n",
    "AllSurp = a.surp_data\n",
    "\n",
    "#-------------------------------\n",
    "#-------------------------------\n",
    "# Define figure and axes\n",
    "\n",
    "fig = figure(figsize = (8,5))\n",
    "\n",
    "gs1 = gridspec.GridSpec(1, 6)\n",
    "ax = fig.add_subplot(gs1[0:4])\n",
    "\n",
    "# These are in unitless percentages of the figure size. (0,0 is bottom left)\n",
    "left, bottom, width, height = [0.29, 0.39, 0.37, 0.5]\n",
    "ax2 = fig.add_axes([left, bottom, width, height])\n",
    "#-------------------------------\n",
    "#-------------------------------\n",
    "# Plot the 20 binsizes Surprises\n",
    "\n",
    "for i in arange(20):\n",
    "    sorted_datab = np.sort(AllSurp[i])  \n",
    "    yvalsb=np.arange(len(sorted_datab))/float(len(sorted_datab))\n",
    "    leg = where(1-yvalsb<0.0005)[0][0]\n",
    "    val = round(sorted_datab[leg],1)\n",
    "    #print(val, len(sorted_datab), leg)\n",
    "    ax.plot( sorted_datab, 1-yvalsb,lw=2 , label =str(val))\n",
    "    ax2.plot( sorted_datab, 1-yvalsb,lw=2 )\n",
    "    \n",
    "ax.legend(bbox_to_anchor=(1.1, 0.98),loc=2,fontsize = 10)\n",
    "#ax.text(9.05,0.98,'Thresholds at 0.05%', size=11)\n",
    "ax.text(7.05,0.98,'Thresholds at 0.05%', size=11)\n",
    "\n",
    "#-------------------------------\n",
    "#-------------------------------\n",
    "# titles, labels, ticks, limits\n",
    "ax.set_xlabel('Surprise value',size = 18)\n",
    "ax.set_ylabel('Cumulative surprise',size = 18)\n",
    "ax.tick_params( labelsize=14)\n",
    "ax2.tick_params( labelsize=8)\n",
    "\n",
    "#ax.set_title('Surprise for Blanks All',fontweight='bold', size = 16)\n",
    "ax.set_title('Surprise for Blanks',fontweight='bold', size = 16)\n",
    "\n",
    "ylim([0,0.0005])\n",
    "xlim([3,6.5])\n",
    "\n",
    "#-------------------------------\n",
    "#-------------------------------\n",
    "# Save pdf\n",
    "fig.tight_layout() \n",
    "\n",
    "fig.savefig(PDFfile +'.pdf', format='pdf')  "
   ]
  },
  {
   "cell_type": "code",
   "execution_count": null,
   "metadata": {
    "collapsed": true
   },
   "outputs": [],
   "source": []
  }
 ],
 "metadata": {
  "kernelspec": {
   "display_name": "Python 3",
   "language": "python",
   "name": "python3"
  },
  "language_info": {
   "codemirror_mode": {
    "name": "ipython",
    "version": 3
   },
   "file_extension": ".py",
   "mimetype": "text/x-python",
   "name": "python",
   "nbconvert_exporter": "python",
   "pygments_lexer": "ipython3",
   "version": "3.4.3"
  }
 },
 "nbformat": 4,
 "nbformat_minor": 0
}
