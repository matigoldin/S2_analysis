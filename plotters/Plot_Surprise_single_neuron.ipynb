{
 "cells": [
  {
   "cell_type": "markdown",
   "metadata": {},
   "source": [
    "# Plotting Surprise for a neuron"
   ]
  },
  {
   "cell_type": "markdown",
   "metadata": {},
   "source": [
    "Here we load every neuron and make the plot of:\n",
    "- psth\n",
    "- waveform + PCA location\n",
    "- maps of Strength, Direction and Latency\n",
    "- Surprise for PWs\n",
    "- Surprise for example binsizes all whiskers"
   ]
  },
  {
   "cell_type": "code",
   "execution_count": 3,
   "metadata": {
    "collapsed": false
   },
   "outputs": [
    {
     "name": "stdout",
     "output_type": "stream",
     "text": [
      "Populating the interactive namespace from numpy and matplotlib\n",
      "Modules to reload:\n",
      "all-except-skipped\n",
      "\n",
      "Modules to skip:\n",
      "\n"
     ]
    },
    {
     "name": "stderr",
     "output_type": "stream",
     "text": [
      "WARNING: pylab import has clobbered these variables: ['pylab', 'test', 'draw_if_interactive']\n",
      "`%matplotlib` prevents importing * from pylab and numpy\n"
     ]
    }
   ],
   "source": [
    "%pylab inline\n",
    "\n",
    "#%load_ext autoreload\n",
    "#%autoreload 1  #option 1 to select which to reload with   %aimport display_PCAs or %aimport -display_PCAs\n",
    "                 #option 0 deactivated, option 2 active for all\n",
    "%aimport     \n",
    "import sys\n",
    "sys.path.append('../functions') #this is where we put all the functions.py    "
   ]
  },
  {
   "cell_type": "code",
   "execution_count": 4,
   "metadata": {
    "collapsed": false
   },
   "outputs": [],
   "source": [
    "from pylab import*\n",
    "import matplotlib.gridspec as gridspec\n",
    "\n",
    "from save_load import*\n",
    "from display_psth import*\n",
    "from display_surp import*\n",
    "from display_lat import*\n",
    "from display_map import*\n",
    "from display_waveform import*\n",
    "from display_PCAs import*\n",
    "from get_PCA import*"
   ]
  },
  {
   "cell_type": "code",
   "execution_count": null,
   "metadata": {
    "collapsed": false,
    "scrolled": true
   },
   "outputs": [],
   "source": [
    "#-------------------------------\n",
    "# PLOTTING SURPRISE ANALYSIS\n",
    "#-------------------------------\n",
    "# Loading data\n",
    "Folder = '/home/matias/WORKSPACE/S2_git/data'\n",
    "\n",
    "file =Folder +'/wavedataAll'\n",
    "WAVE = load_obj(file)\n",
    "PCA,cl = Get_PCA(WAVE) # to get it once only  \n",
    "\n",
    "file =Folder +'/Blanksurprise'\n",
    "THRESH = load_obj(file)\n",
    "# here we select the pvalue threshold\n",
    "thresh = THRESH.surp_thresh[:,4]\n",
    "\n",
    "#-------------------------------\n",
    "for expe in [26]:#[20,22,23,24,26,27,28,29,30,31,32]:\n",
    "    #-------------------------------\n",
    "    # Loading data\n",
    "    file =Folder +'/surpdata' + str(expe)\n",
    "    SURPRISE = {}\n",
    "    SURPRISE =load_obj(file)\n",
    "    \n",
    "    TIMES ={}\n",
    "    file =Folder +'/psthtimesdata' + str(expe)\n",
    "    TIMES = load_obj(file)\n",
    "    \n",
    "    PSTH = {}\n",
    "    file =Folder +'/psthbinsdata' + str(expe)\n",
    "    PSTH = load_obj(file)\n",
    "    \n",
    "    SIG ={}\n",
    "    file = Folder +'/sigdata' + str(expe)\n",
    "    SIG = load_obj(file)\n",
    "    #-------------------------------\n",
    "    # Data info\n",
    "    idx = sort(list(SURPRISE.keys()))\n",
    "    #nro = 14\n",
    "    #n=idx[nro]\n",
    "    for n in idx[0:1]:\n",
    "        n = 'exp26_m1s1_c14'                                       #select neuron here!\n",
    "        print(n)\n",
    "        #print(SURPRISE[n].keys())\n",
    "        #print(SURPRISE[n].surprise_data.keys())\n",
    "        #-------------------------------\n",
    "        # Neuron data\n",
    "        histdata = TIMES[n].psth_times\n",
    "        surpdata = SURPRISE[n].surprise_data\n",
    "        sigdata = SIG[n].detection_data\n",
    "        latdata = SIG[n].latency_data\n",
    "        wavedata= WAVE[n]\n",
    "        neuron = SURPRISE[n].clusnum\n",
    "        exp = SURPRISE[n].exp\n",
    "        meas = SURPRISE[n].meas\n",
    "        shank = SURPRISE[n].shank\n",
    "        \n",
    "        #-------------------------------\n",
    "        # PSTH params\n",
    "        t0 = -PSTH[n].psth_edges[0]\n",
    "        t_before= 5\n",
    "        t_after=50\n",
    "        wb = 20 if exp>22 else 11\n",
    "\n",
    "        #-------------------------------\n",
    "        #Figure\n",
    "        fig = plt.figure(figsize=(12,16.5))\n",
    "        fig.suptitle(n,fontsize=25)\n",
    "        outer_grid = gridspec.GridSpec(4, 2, wspace=0.2, hspace=0.35)\n",
    "        \n",
    "        #---------------------------------------------------------------------------------------------\n",
    "        # PSTH\n",
    "        inner_grid = gridspec.GridSpecFromSubplotSpec(5,5,subplot_spec=outer_grid[0], wspace=0.1, hspace=0.1)\n",
    "        display_PSTH(expe, histdata, sigdata, t0, t_before, t_after, fig,inner_grid, n) \n",
    "        \n",
    "        #---------------------------------------------------------------------------------------------\n",
    "        # SURPRISE for different binsizes\n",
    "        inner_grid = gridspec.GridSpecFromSubplotSpec(5,4,subplot_spec=outer_grid[4:8], wspace=0.2, hspace=0.6)\n",
    "        display_surprise(surpdata,[1,5,10,15,20], n , fig, inner_grid, wb, thresh)\n",
    "        \n",
    "        #---------------------------------------------------------------------------------------------\n",
    "        # PW SURPRISE\n",
    "        inner_grid = gridspec.GridSpecFromSubplotSpec(2,2,subplot_spec=outer_grid[2], wspace=0.2, hspace=0.6)\n",
    "        display_surprisePW(surpdata,sigdata, n , fig, inner_grid, wb, thresh)\n",
    "        \n",
    "        #---------------------------------------------------------------------------------------------\n",
    "        # LATENCY\n",
    "        inner_grid = gridspec.GridSpecFromSubplotSpec(1,1,subplot_spec=outer_grid[3], wspace=0.2, hspace=0.4)\n",
    "        display_latencies(sigdata, latdata, fig, inner_grid)\n",
    "        \n",
    "        #---------------------------------------------------------------------------------------------\n",
    "        # MAPS\n",
    "        inner_grid = gridspec.GridSpecFromSubplotSpec(2,2,subplot_spec=outer_grid[1], wspace=0.2, hspace=0.4)\n",
    "        display_maps(sigdata,latdata, fig, inner_grid,expe)\n",
    "        \n",
    "        #---------------------------------------------------------------------------------------------\n",
    "        # WAVE\n",
    "        inner_grid = gridspec.GridSpecFromSubplotSpec(2,2,subplot_spec=outer_grid[2], wspace=0.4, hspace=0.6)\n",
    "        display_wave(wavedata, fig, inner_grid)\n",
    "        display_PCA(PCA,cl,WAVE[n].PCA_wave, fig, inner_grid) \n",
    "\n",
    "        #-------------------------------\n",
    "        PDFfile = '/home/matias/WORKSPACE/OUTPUT/Surprise/EXP_'+str(expe)+'/'\n",
    "        fig.savefig(PDFfile + n + '_surp.pdf', format='pdf')  \n",
    "close(fig)"
   ]
  },
  {
   "cell_type": "code",
   "execution_count": 30,
   "metadata": {
    "collapsed": true
   },
   "outputs": [
    {
     "data": {
      "text/plain": [
       "array([[[ 0.        ,  0.        ],\n",
       "        [ 0.        ,  0.        ],\n",
       "        [ 0.        ,  0.        ],\n",
       "        [ 0.        ,  0.        ],\n",
       "        [ 0.        ,  0.        ]],\n",
       "\n",
       "       [[ 0.        ,  0.        ],\n",
       "        [ 0.        ,  0.        ],\n",
       "        [ 0.        ,  0.08888889],\n",
       "        [ 0.        ,  0.        ],\n",
       "        [ 0.        ,  0.        ]],\n",
       "\n",
       "       [[ 0.        ,  0.        ],\n",
       "        [ 0.        ,  0.        ],\n",
       "        [ 0.2       ,  0.        ],\n",
       "        [ 1.        ,  0.        ],\n",
       "        [ 0.        ,  0.        ]],\n",
       "\n",
       "       [[ 0.        ,  0.        ],\n",
       "        [ 0.        ,  0.        ],\n",
       "        [ 0.        ,  0.        ],\n",
       "        [ 0.        ,  0.        ],\n",
       "        [ 0.        ,  0.        ]],\n",
       "\n",
       "       [[ 0.        ,  0.        ],\n",
       "        [ 0.        ,  0.        ],\n",
       "        [ 0.        ,  0.        ],\n",
       "        [ 0.        ,  0.        ],\n",
       "        [ 0.        ,  0.        ]]])"
      ]
     },
     "execution_count": 30,
     "metadata": {},
     "output_type": "execute_result"
    }
   ],
   "source": [
    "sigdata.Sig_strength_norm.reshape([5,5,2])"
   ]
  },
  {
   "cell_type": "code",
   "execution_count": 163,
   "metadata": {
    "collapsed": false
   },
   "outputs": [
    {
     "name": "stdout",
     "output_type": "stream",
     "text": [
      "[[[ 0.     0.   ]\n",
      "  [ 0.     0.   ]\n",
      "  [ 0.     0.   ]\n",
      "  [ 0.     0.   ]\n",
      "  [ 0.     0.   ]]\n",
      "\n",
      " [[ 0.     0.   ]\n",
      "  [ 0.     0.   ]\n",
      "  [ 0.014  0.   ]\n",
      "  [ 0.     0.   ]\n",
      "  [ 0.     0.   ]]\n",
      "\n",
      " [[ 0.     0.   ]\n",
      "  [ 0.     0.   ]\n",
      "  [ 0.     0.   ]\n",
      "  [ 0.     0.   ]\n",
      "  [ 0.     0.   ]]\n",
      "\n",
      " [[ 0.     0.   ]\n",
      "  [ 0.536  0.304]\n",
      "  [ 0.277  0.238]\n",
      "  [ 0.     0.   ]\n",
      "  [ 0.     0.   ]]\n",
      "\n",
      " [[ 0.     0.   ]\n",
      "  [ 0.54   1.   ]\n",
      "  [ 0.37   0.   ]\n",
      "  [ 0.     0.   ]\n",
      "  [ 0.     0.   ]]]\n"
     ]
    }
   ],
   "source": [
    "n = 'exp22_m3s1_c66'\n",
    "n = 'exp22_m3s3_c21656'\n",
    "n = 'exp22_m1s3_c20169932'\n",
    "n = 'exp22_m3s4_c77'\n",
    "n = 'exp22_m3s4_c989'\n",
    "n = 'exp22_m3s4_c60'\n",
    "\n",
    "np.set_printoptions(precision=3)\n",
    "print(SIG[n].detection_data.Sig_strength_norm.reshape([5,5,2]))"
   ]
  },
  {
   "cell_type": "code",
   "execution_count": 161,
   "metadata": {
    "collapsed": false
   },
   "outputs": [
    {
     "name": "stdout",
     "output_type": "stream",
     "text": [
      "0.004987769576990542\n"
     ]
    },
    {
     "data": {
      "text/plain": [
       "0.014888799279872411"
      ]
     },
     "execution_count": 161,
     "metadata": {},
     "output_type": "execute_result"
    }
   ],
   "source": [
    "from math import*\n",
    "\n",
    "p = 0.0001\n",
    "r = 1-p\n",
    "\n",
    "n = 1\n",
    "tot = 50\n",
    "\n",
    "P=0\n",
    "for i in arange(n):\n",
    "    P += pow(p,i)*pow(r,tot-i)*factorial(tot)/factorial(tot-i)/factorial(i)\n",
    "\n",
    "p=1-P\n",
    "r=P\n",
    "\n",
    "print(p)\n",
    "\n",
    "n=1\n",
    "tot=20\n",
    "\n",
    "P2=0\n",
    "for i in arange(n):\n",
    "    P2 += pow(p,i)*pow(r,tot-i)*factorial(tot)/factorial(tot-i)/factorial(i)\n",
    "    \n",
    "1-P2"
   ]
  },
  {
   "cell_type": "code",
   "execution_count": null,
   "metadata": {
    "collapsed": true
   },
   "outputs": [],
   "source": []
  }
 ],
 "metadata": {
  "kernelspec": {
   "display_name": "Python 3",
   "language": "python",
   "name": "python3"
  },
  "language_info": {
   "codemirror_mode": {
    "name": "ipython",
    "version": 3
   },
   "file_extension": ".py",
   "mimetype": "text/x-python",
   "name": "python",
   "nbconvert_exporter": "python",
   "pygments_lexer": "ipython3",
   "version": "3.4.3"
  }
 },
 "nbformat": 4,
 "nbformat_minor": 0
}
