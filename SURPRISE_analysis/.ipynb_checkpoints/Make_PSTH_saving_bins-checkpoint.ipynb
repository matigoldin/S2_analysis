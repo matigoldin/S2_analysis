{
 "cells": [
  {
   "cell_type": "markdown",
   "metadata": {},
   "source": [
    "# Make psthbins pickles"
   ]
  },
  {
   "cell_type": "markdown",
   "metadata": {},
   "source": [
    "Here we load the pickles with the spiketimes and build all the psthbins for the posterior analysis and plotting.\n",
    "\n",
    "We make one for each experiment."
   ]
  },
  {
   "cell_type": "code",
   "execution_count": 4,
   "metadata": {
    "collapsed": false
   },
   "outputs": [
    {
     "name": "stdout",
     "output_type": "stream",
     "text": [
      "Populating the interactive namespace from numpy and matplotlib\n",
      "The autoreload extension is already loaded. To reload it, use:\n",
      "  %reload_ext autoreload\n"
     ]
    },
    {
     "name": "stderr",
     "output_type": "stream",
     "text": [
      "WARNING: pylab import has clobbered these variables: ['test', 'arccos', 'linalg', 'log2', 'sqrt', 'fft', 'arctanh', 'show_config', 'log10', '__version__', 'log', 'arcsin', 'power']\n",
      "`%matplotlib` prevents importing * from pylab and numpy\n"
     ]
    }
   ],
   "source": [
    "%pylab inline\n",
    "\n",
    "%load_ext autoreload\n",
    "%autoreload 1"
   ]
  },
  {
   "cell_type": "code",
   "execution_count": 13,
   "metadata": {
    "collapsed": false
   },
   "outputs": [],
   "source": [
    "from pylab import *\n",
    "from scipy import *\n",
    "from scipy import stats, io\n",
    "import numpy as np\n",
    "import struct\n",
    "import tables as tb\n",
    "from attrdict import AttrDict\n",
    "import matplotlib.pyplot as plt\n",
    "\n",
    "import sys\n",
    "sys.path.append('../functions') #this is where we put all the functions.py\n",
    "import exps_files_folders as EFF\n",
    "Expe, Vtags, Stim, rootF, stimFolder = EFF.eff()\n",
    "\n",
    "from save_load import *\n",
    "from surp_functions import*"
   ]
  },
  {
   "cell_type": "code",
   "execution_count": 15,
   "metadata": {
    "collapsed": true
   },
   "outputs": [],
   "source": [
    "%aimport surp_functions"
   ]
  },
  {
   "cell_type": "code",
   "execution_count": 17,
   "metadata": {
    "collapsed": false
   },
   "outputs": [
    {
     "name": "stdout",
     "output_type": "stream",
     "text": [
      "20\n",
      "   neuron:  exp20_m1s1_c29\n",
      "  blank rate: 1.55\n",
      "   neuron:  exp20_m1s3_c120\n",
      "  blank rate: 0.04\n",
      "   neuron:  exp20_m1s3_c61\n",
      "  blank rate: 0.09\n",
      "   neuron:  exp20_m1s4_c113\n",
      "  blank rate: 3.9\n",
      "   neuron:  exp20_m1s4_c73\n",
      "  blank rate: 0.22\n",
      "   neuron:  exp20_m1s4_c81\n",
      "  blank rate: 0.92\n",
      "   neuron:  exp20_m1s4_c86\n",
      "  blank rate: 0.66\n",
      "   neuron:  exp20_m1s4_c92\n",
      "  blank rate: 0.96\n",
      "   neuron:  exp20_m3s2_c14\n",
      "  blank rate: 0.15\n",
      "   neuron:  exp20_m3s2_c20\n",
      "  blank rate: 0.48\n",
      "   neuron:  exp20_m3s2_c22\n",
      "  blank rate: 0.02\n",
      "Saving\n"
     ]
    }
   ],
   "source": [
    "#---------------------------------------------------------------------------------------\n",
    "SelExp = [20]# [20,22,23,24,26,27,28,29,30,31,32] #Expe                           #select experiment numbers!\n",
    "\n",
    "#Measurements = []\n",
    "dirs =[]\n",
    "Folder = '/home/matias/WORKSPACE/S2_git/data'    \n",
    "\n",
    "PSTHbins = {}\n",
    "#--------------------------------------------------------------------------------\n",
    "# Loop Experiments\n",
    "#--------------------------------------------------------------------------------\n",
    "for expe in SelExp:\n",
    "    print(expe)\n",
    "    \n",
    "    #--------------------\n",
    "    # To buiild psthbins\n",
    "    psthdata = dict()\n",
    "    datapsth = Folder +'/psthtimesdata' + str(expe)\n",
    "    psthdata = load_obj(datapsth)\n",
    "    \n",
    "    #-------------------- \n",
    "    idx = sorted(list(psthdata.keys()))\n",
    "    \n",
    "    #Build PSTH bins (decide how long before and after stim we analyze, in ms)\n",
    "    t_before = 20\n",
    "    t_after = 70\n",
    "    histlength = t_before + t_after + 1\n",
    "\n",
    "    #--------------------------------------------------------------------------------\n",
    "    # loop neurons of this measurement and shank \n",
    "    #--------------------------------------------------------------------------------\n",
    "    for n in idx[:]:\n",
    "\n",
    "        print('   neuron: ' , n)\n",
    "        clus = psthdata[n].clusnum\n",
    "        meas = psthdata[n].meas\n",
    "        shank = psthdata[n].shank\n",
    "        hist_times = psthdata[n].psth_times\n",
    "        #-------------------------------------------------------\n",
    "        # we give the whisker number blank stimulus\n",
    "        wblank = 20   \n",
    "        if expe <= 22:     #Only for EXP 22 or less: odd ELPHY piezo assignement\n",
    "            wblank = 11\n",
    "        #-------------------------------------------------------    \n",
    "        #-------------------------------------------------------\n",
    "        # this part is only used when constructing psthbins\n",
    "        #select blank stimulus times\n",
    "        blanktimes = np.append(hist_times[wblank][0],hist_times[wblank][1])\n",
    "        # this base rate is not in Hz, is for a bin of 1 ms for this blank stimulus and repetitions\n",
    "        base_rate = len(where(np.r_[blanktimes<=0.05] & np.r_[blanktimes>=0])[0])/100\n",
    "        print('  blank rate:',  base_rate)\n",
    "\n",
    "        #-------------------------------------------------------                \n",
    "        # we build the psth_bins in 1 ms accuracy, bin borders are integer numbers\n",
    "        PSTHbins[n] =(AttrDict({'blank_rate': base_rate , 'psth_edges' : [-t_before,t_after] }))\n",
    "\n",
    "        psth_bins = BuildPsth(hist_times,t_before,t_after,histlength)\n",
    "        PSTHbins[n].update({'psth_data' : psth_bins})\n",
    "        #-------------------------------------------------------    \n",
    "        #-------------------------------------------------------\n",
    "        \n",
    "        PSTHbins[n].update({'clusnum': clus,'exp' : int(expe) , 'meas': meas , 'shank': shank})\n",
    "\n",
    "    \n",
    "    print('Saving')\n",
    "    filesave =Folder +'/psthbinsdata' + str(expe)\n",
    "    save_obj(PSTHbins,filesave)                 "
   ]
  },
  {
   "cell_type": "code",
   "execution_count": null,
   "metadata": {
    "collapsed": true
   },
   "outputs": [],
   "source": []
  }
 ],
 "metadata": {
  "kernelspec": {
   "display_name": "Python 3",
   "language": "python",
   "name": "python3"
  },
  "language_info": {
   "codemirror_mode": {
    "name": "ipython",
    "version": 3
   },
   "file_extension": ".py",
   "mimetype": "text/x-python",
   "name": "python",
   "nbconvert_exporter": "python",
   "pygments_lexer": "ipython3",
   "version": "3.4.3"
  }
 },
 "nbformat": 4,
 "nbformat_minor": 0
}
