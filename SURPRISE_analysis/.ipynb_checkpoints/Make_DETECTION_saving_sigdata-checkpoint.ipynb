{
 "cells": [
  {
   "cell_type": "markdown",
   "metadata": {},
   "source": [
    "# Make DETECTION using surpdata, sigdata.pckl"
   ]
  },
  {
   "cell_type": "markdown",
   "metadata": {},
   "source": [
    "We detet significant surprises for every neuron and save them\n",
    "\n",
    "It uses surprises from 5 to 55ms since after 55ms overlaps with next stimulus response\n",
    "It uses the Blanksurprise data for the thresholds\n",
    "\n",
    "It is made for:\n",
    "    - every neuron\n",
    "    - every whisker\n",
    "    - both directions\n",
    "        \n",
    "Three main cells used in order do:\n",
    "- Compute surprise\n",
    "- Detect significant whiskers\n",
    "- Compute Latencies\n",
    "\n",
    "Parameters are:\n",
    "    - sizesaboveth\n",
    "    - consecaboveth"
   ]
  },
  {
   "cell_type": "code",
   "execution_count": 1,
   "metadata": {
    "collapsed": false
   },
   "outputs": [
    {
     "name": "stdout",
     "output_type": "stream",
     "text": [
      "Populating the interactive namespace from numpy and matplotlib\n"
     ]
    }
   ],
   "source": [
    "%pylab inline\n",
    "\n",
    "%load_ext autoreload\n",
    "%autoreload 1"
   ]
  },
  {
   "cell_type": "code",
   "execution_count": 2,
   "metadata": {
    "collapsed": false
   },
   "outputs": [],
   "source": [
    "from pylab import *\n",
    "from scipy import *\n",
    "import numpy as np\n",
    "from attrdict import AttrDict\n",
    "from scipy.stats import poisson\n",
    "\n",
    "import sys\n",
    "sys.path.append('../functions') #this is where we put all the functions.py\n",
    "import exps_files_folders as EFF\n",
    "Expe, Vtags, Stim, rootF, stimFolder = EFF.eff()\n",
    "from save_load import *\n",
    "\n",
    "from surp_functions import*"
   ]
  },
  {
   "cell_type": "code",
   "execution_count": 26,
   "metadata": {
    "collapsed": false
   },
   "outputs": [],
   "source": [
    "%aimport surp_functions\n"
   ]
  },
  {
   "cell_type": "markdown",
   "metadata": {},
   "source": [
    "# Make Detection"
   ]
  },
  {
   "cell_type": "code",
   "execution_count": 32,
   "metadata": {
    "collapsed": false
   },
   "outputs": [
    {
     "name": "stdout",
     "output_type": "stream",
     "text": [
      "Selected pval for blank threshold:  0.0005\n",
      "Thresholds for all binsizes :\n",
      "20\n",
      "   neuron:  exp23_m1s1_c4\n",
      "   neuron:  exp23_m1s2_c8\n",
      "   neuron:  exp23_m2s1_c10\n",
      "   neuron:  exp23_m2s1_c17\n",
      "   neuron:  exp23_m2s1_c2\n",
      "   neuron:  exp23_m2s1_c20\n",
      "   neuron:  exp23_m2s1_c3\n",
      "   neuron:  exp23_m2s1_c6\n",
      "   neuron:  exp23_m2s1_c8\n",
      "   neuron:  exp23_m2s1_c9\n",
      "   neuron:  exp23_m2s2_c11\n",
      "   neuron:  exp23_m2s2_c16\n",
      "   neuron:  exp23_m2s2_c17\n",
      "   neuron:  exp23_m2s2_c18\n",
      "   neuron:  exp23_m2s2_c2\n",
      "   neuron:  exp23_m2s2_c21\n",
      "   neuron:  exp23_m2s2_c23\n",
      "   neuron:  exp23_m2s2_c24\n",
      "   neuron:  exp23_m2s2_c25\n",
      "   neuron:  exp23_m2s3_c114\n",
      "   neuron:  exp23_m2s3_c13\n",
      "   neuron:  exp23_m2s3_c19\n",
      "   neuron:  exp23_m2s3_c22\n",
      "   neuron:  exp23_m2s3_c23\n",
      "   neuron:  exp23_m2s3_c24\n",
      "   neuron:  exp23_m2s3_c28\n",
      "   neuron:  exp23_m2s3_c31\n",
      "   neuron:  exp23_m2s3_c33\n",
      "   neuron:  exp23_m2s3_c41\n",
      "   neuron:  exp23_m2s3_c44\n",
      "   neuron:  exp23_m2s3_c7\n",
      "   neuron:  exp23_m2s3_c9\n",
      "   neuron:  exp23_m2s4_c4\n",
      "   neuron:  exp23_m2s4_c9\n",
      "   neuron:  exp23_m2s5_c13\n",
      "   neuron:  exp23_m2s5_c14\n",
      "Saving\n"
     ]
    }
   ],
   "source": [
    "global binname, textname\n",
    "#---------------------------------------------------------------------------------------\n",
    "SelExp = [20]#[20,22,23,24,26,27,28,29,30,31,32] #Expe                           #select experiment numbers!\n",
    "\n",
    "Folder = '/home/matias/WORKSPACE/S2_git/data'    \n",
    "\n",
    "thfile = Folder + '/Blanksurprise'\n",
    "Th = load_obj(thfile)\n",
    "\n",
    "# Threshold was computed for this 5 pvals: (0.01, 0.005, 0.001, 0.0005, 0.0001)\n",
    "# we select HERE the 0.005 at 4th position\n",
    "position = 4\n",
    "\n",
    "pvalue = Th.pval_list[position-1]\n",
    "print('Selected pval for blank threshold: ', pvalue)\n",
    "\n",
    "thresholds = Th.surp_thresh[:,position-1]\n",
    "print('Thresholds for all binsizes :')\n",
    "#print( np.reshape(thresholds,[-1,1]))\n",
    "\n",
    "#--------------------------------------------------------------------------------\n",
    "# Loop Experiments\n",
    "#--------------------------------------------------------------------------------\n",
    "for expe in SelExp:\n",
    "    print(expe)\n",
    "    \n",
    "    Detection = {}\n",
    "    #--------------------\n",
    "    # To load Surprise\n",
    "    surpdata = {}\n",
    "    surpfile = Folder +'/surpdata' + str(expe)\n",
    "    surpdata = load_obj(surpfile)\n",
    "    #--------------------\n",
    "       \n",
    "    idx = sorted(list(surpdata.keys()))\n",
    "    #--------------------------------------------------------------------------------\n",
    "    # loop neurons\n",
    "    #--------------------------------------------------------------------------------\n",
    "    for n in idx[:]:\n",
    "        print('   neuron: ' , n)\n",
    "        clus = surpdata[n].clusnum\n",
    "        meas = surpdata[n].meas\n",
    "        shank = surpdata[n].shank\n",
    "        surp = surpdata[n].surprise_data.Data\n",
    "       \n",
    "        #-------------------------------------------------------    \n",
    "        Detection[n] = AttrDict({})\n",
    "        Detection[n].update({'clusnum': clus, 'exp' : int(expe) , 'meas': meas , 'shank': shank})\n",
    "        #-------------------------------------------------------\n",
    "\n",
    "        # we give the whisker number blank stimulus\n",
    "        wblank = 20   \n",
    "        if expe <= 22:     #Only for EXP 22 or less: odd ELPHY piezo assignement\n",
    "            wblank = 11\n",
    "        #-------------------------------------------------------\n",
    "        #----------------------------------------------------\n",
    "        # we detect significant whiskers\n",
    "        surpmin = 5       #minimum latency in ms, so significance is computed from here\n",
    "        \n",
    "        nconsecaboveth = 3   #number of binnings where surprise to be significative for whisker to be significative\n",
    "        nsizesaboveth = 3     # how many bins consecutive with surp above th to call it significant\n",
    "\n",
    "        Detection[n].update({'detection_data': BuildSig(surp,thresholds,wblank,nconsecaboveth,surpmin,nsizesaboveth)})\n",
    "                               \n",
    "        #----------------------------------------------------\n",
    "    print('Saving')\n",
    "    filesave =Folder +'/sigdata' + str(expe)\n",
    "    save_obj(Detection,filesave)                 \n",
    " "
   ]
  },
  {
   "cell_type": "code",
   "execution_count": 22,
   "metadata": {
    "collapsed": false
   },
   "outputs": [
    {
     "data": {
      "text/plain": [
       "dict_keys(['psth_edges', 'exp', 'meas', 'clusnum', 'shank', 'psth_data', 'blank_rate'])"
      ]
     },
     "execution_count": 22,
     "metadata": {},
     "output_type": "execute_result"
    }
   ],
   "source": [
    "surpdata[n].keys()"
   ]
  },
  {
   "cell_type": "code",
   "execution_count": 35,
   "metadata": {
    "collapsed": false
   },
   "outputs": [
    {
     "name": "stdout",
     "output_type": "stream",
     "text": [
      "dict_keys(['exp', 'meas', 'clusnum', 'detection_data', 'shank'])\n"
     ]
    },
    {
     "data": {
      "text/plain": [
       "dict_keys([0, 1, 2, 3, 4, 5, 6, 7, 8, 9, 10, 11, 12, 13, 14, 15, 16, 17, 18, 19, 20, 21, 22, 23, 24, 'logic_tree_significants', 'PW', 'Sig_top', 'Sig', 'Sig_sizes', 'PWstrong', 'logic_tree_sig_sizes', 'Sig_strength', 'Sig_strength_norm'])"
      ]
     },
     "execution_count": 35,
     "metadata": {},
     "output_type": "execute_result"
    }
   ],
   "source": [
    "Folder = '/home/matias/WORKSPACE/S2_git/data'    \n",
    "filesave =Folder +'/sigdata20' \n",
    "\n",
    "a = load_obj(filesave)\n",
    "\n",
    "idx = list(a.keys())\n",
    "\n",
    "n = idx[0]\n",
    "\n",
    "print(a[n].keys())\n",
    "\n",
    "a[n].detection_data.keys()"
   ]
  },
  {
   "cell_type": "code",
   "execution_count": null,
   "metadata": {
    "collapsed": true
   },
   "outputs": [],
   "source": []
  }
 ],
 "metadata": {
  "kernelspec": {
   "display_name": "Python 3",
   "language": "python",
   "name": "python3"
  },
  "language_info": {
   "codemirror_mode": {
    "name": "ipython",
    "version": 3
   },
   "file_extension": ".py",
   "mimetype": "text/x-python",
   "name": "python",
   "nbconvert_exporter": "python",
   "pygments_lexer": "ipython3",
   "version": "3.4.3"
  }
 },
 "nbformat": 4,
 "nbformat_minor": 0
}
