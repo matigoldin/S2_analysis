{
 "cells": [
  {
   "cell_type": "markdown",
   "metadata": {},
   "source": [
    "# Make LATENCIES using surpdata and sigdata, latdata.pckl"
   ]
  },
  {
   "cell_type": "markdown",
   "metadata": {},
   "source": [
    "We build latencies for every neuron and save them\n",
    "\n",
    "It is made for:\n",
    "    - every neuron with significant whiskers\n",
    "    - every significant whisker and direction\n"
   ]
  },
  {
   "cell_type": "code",
   "execution_count": 5,
   "metadata": {
    "collapsed": false
   },
   "outputs": [
    {
     "name": "stdout",
     "output_type": "stream",
     "text": [
      "Populating the interactive namespace from numpy and matplotlib\n",
      "The autoreload extension is already loaded. To reload it, use:\n",
      "  %reload_ext autoreload\n"
     ]
    }
   ],
   "source": [
    "%pylab inline\n",
    "\n",
    "%load_ext autoreload\n",
    "%autoreload 1"
   ]
  },
  {
   "cell_type": "code",
   "execution_count": 6,
   "metadata": {
    "collapsed": false
   },
   "outputs": [],
   "source": [
    "from pylab import *\n",
    "from scipy import *\n",
    "import numpy as np\n",
    "from attrdict import AttrDict\n",
    "from scipy.stats import poisson\n",
    "\n",
    "import sys\n",
    "sys.path.append('../functions') #this is where we put all the functions.py\n",
    "import exps_files_folders as EFF\n",
    "Expe, Vtags, Stim, rootF, stimFolder = EFF.eff()\n",
    "from save_load import *\n",
    "\n",
    "from surp_functions import*"
   ]
  },
  {
   "cell_type": "code",
   "execution_count": 3,
   "metadata": {
    "collapsed": false
   },
   "outputs": [],
   "source": [
    "%aimport -display_psth\n"
   ]
  },
  {
   "cell_type": "markdown",
   "metadata": {},
   "source": [
    "# Make Latencies"
   ]
  },
  {
   "cell_type": "code",
   "execution_count": null,
   "metadata": {
    "collapsed": false
   },
   "outputs": [
    {
     "name": "stdout",
     "output_type": "stream",
     "text": [
      "20\n",
      "   neuron:  exp20_m1s1_c29\n",
      "   neuron:  exp20_m1s3_c120\n",
      "   neuron: "
     ]
    }
   ],
   "source": [
    "global binname, textname\n",
    "#---------------------------------------------------------------------------------------\n",
    "SelExp = [20,22,23,24,26,27,28,29,30,31,32] #Expe                           #select experiment numbers!\n",
    "\n",
    "Folder = '/home/matias/WORKSPACE/S2_git/data'    \n",
    "\n",
    "#--------------------------------------------------------------------------------\n",
    "# Loop Experiments\n",
    "#--------------------------------------------------------------------------------\n",
    "for expe in SelExp:\n",
    "    print(expe)\n",
    "    \n",
    "    Surprise = {}\n",
    "    #--------------------\n",
    "    # To build Surprise\n",
    "    psthbinsdata = dict()\n",
    "    datapsthbins = Folder +'/psthbinsdata' + str(expe)\n",
    "    psthdata = load_obj(datapsthbins)\n",
    "    #--------------------\n",
    "    \n",
    "    idx = sorted(list(psthdata.keys()))\n",
    "    #--------------------------------------------------------------------------------\n",
    "    # loop neurons\n",
    "    #--------------------------------------------------------------------------------\n",
    "    for n in idx[:]:\n",
    "        print('   neuron: ' , n)\n",
    "        clus = psthdata[n].clusnum\n",
    "        meas = psthdata[n].meas\n",
    "        shank = psthdata[n].shank\n",
    "        t_before = -psthdata[n].psth_edges[0]\n",
    "        psth_bins = psthdata[n].psth_data\n",
    "                \n",
    "        base_rate = psthdata[n].blank_rate\n",
    "        if base_rate < 0.15: base_rate = 0.15       #correct for very low firing rate\n",
    "        \n",
    "        #-------------------------------------------------------\n",
    "        # we give the whisker number blank stimulus\n",
    "        wblank = 20   \n",
    "        if expe <= 22:     #Only for EXP 22 or less: odd ELPHY piezo assignement\n",
    "            wblank = 11\n",
    "        #-------------------------------------------------------    \n",
    "        #-------------------------------------------------------\n",
    "        Surprise[n] = AttrDict({})\n",
    "        Surprise[n].update({'clusnum': clus, 'exp' : int(expe) , 'meas': meas , 'shank': shank})\n",
    "\n",
    "        #-------------------------------------------------------\n",
    "        # we build the 20 surprises for each of the 25 whiskers and two directions (20x25x2 = 10000)\n",
    "        maxbin = 20   # the maximum bin to compute surprise\n",
    "        surpmin = 5       #minimum latency in ms, so significance is computed from here\n",
    "        surpmax = 55  # the max time for computing surprise, starting from bin with borders (0-1)\n",
    "\n",
    "        Surprise[n].update({'surprise_data' : BuildSurprise(psth_bins,t_before,base_rate,maxbin,surpmax,surpmin,wblank)})\n",
    "        #----------------------------------------------------\n",
    "    #print('   printing')\n",
    "    print('Saving')\n",
    "    filesave =Folder +'/surpdata' + str(expe)\n",
    "    save_obj(Surprise,filesave)                 \n",
    " "
   ]
  },
  {
   "cell_type": "code",
   "execution_count": 22,
   "metadata": {
    "collapsed": false
   },
   "outputs": [
    {
     "data": {
      "text/plain": [
       "array([[ 1.01720643,  1.01720643,  1.01720643,  0.38152607,  0.53044947,\n",
       "         0.53044947,  0.53044947,  0.38152607,  0.38152607,  0.49883043,\n",
       "         0.31606298,  1.5679922 ,  1.5679922 ,  0.97620013,  0.41503618,\n",
       "         0.66246884,  0.66246884,  0.41503618,  0.41503618,  0.49883043,\n",
       "         0.81309257,  3.23156505,  2.70553069,  3.23156505,  3.23156505,\n",
       "         1.25813602,  1.25813602,  1.25813602,  1.25813602,  1.25813602,\n",
       "         1.25813602,  0.53044947,  0.53044947,  0.53044947,  0.53044947,\n",
       "         0.38152607,  0.31606298,  0.31606298,  0.97620013,  0.97620013,\n",
       "         1.35494451,  0.49883043,  0.31606298,  0.31606298,  1.7963767 ,\n",
       "         0.97620013,  1.5679922 ,  2.03974187,  1.7963767 ,  2.29772531,\n",
       "         2.03974187,  3.15577971,  2.29772531,  2.29772531,  0.81109373],\n",
       "       [ 0.41503618,  0.81309257,  0.49883043,  0.41503618,  0.41503618,\n",
       "         0.41503618,  0.31606298,  0.49883043,  0.31606298,  0.31606298,\n",
       "         1.15757524,  1.15757524,  2.29772531,  1.5679922 ,  3.15577971,\n",
       "         2.29772531,  1.35494451,  1.35494451,  0.81109373,  1.15757524,\n",
       "         0.31606298,  0.66246884,  0.81309257,  0.81309257,  2.70553069,\n",
       "         1.54080084,  1.54080084,  0.64155227,  0.38152607,  0.64155227,\n",
       "         0.41503618,  0.49883043,  0.41503618,  0.41503618,  1.15757524,\n",
       "         0.66246884,  1.15757524,  0.53044947,  0.41503618,  0.66246884,\n",
       "         0.38152607,  0.38152607,  0.38152607,  1.15757524,  0.53044947,\n",
       "         0.97620013,  1.5679922 ,  1.5679922 ,  1.35494451,  1.7963767 ,\n",
       "         4.13270243,  4.13270243,  3.15577971,  1.35494451,  1.7963767 ]])"
      ]
     },
     "execution_count": 22,
     "metadata": {},
     "output_type": "execute_result"
    }
   ],
   "source": [
    "Folder = '/home/matias/WORKSPACE/S2_git/data'    \n",
    "filesave =Folder +'/surprisedata20' \n",
    "\n",
    "#a = load_obj(filesave)\n",
    "\n",
    "idx = list(a.keys())\n",
    "\n",
    "n = idx[0]\n",
    "\n",
    "a[n].surprise_data.Data[20][10]"
   ]
  },
  {
   "cell_type": "code",
   "execution_count": 23,
   "metadata": {
    "collapsed": false
   },
   "outputs": [
    {
     "data": {
      "text/plain": [
       "array([[ 1.01720643,  1.01720643,  1.01720643,  0.38152607,  0.53044947,\n",
       "         0.53044947,  0.53044947,  0.38152607,  0.38152607,  0.49883043,\n",
       "         0.31606298,  1.5679922 ,  1.5679922 ,  0.97620013,  0.41503618,\n",
       "         0.66246884,  0.66246884,  0.41503618,  0.41503618,  0.49883043,\n",
       "         0.81309257,  3.23156505,  2.70553069,  3.23156505,  3.23156505,\n",
       "         1.25813602,  1.25813602,  1.25813602,  1.25813602,  1.25813602,\n",
       "         1.25813602,  0.53044947,  0.53044947,  0.53044947,  0.53044947,\n",
       "         0.38152607,  0.31606298,  0.31606298,  0.97620013,  0.97620013,\n",
       "         1.35494451,  0.49883043,  0.31606298,  0.31606298,  1.7963767 ,\n",
       "         0.97620013,  1.5679922 ,  2.03974187,  1.7963767 ,  2.29772531,\n",
       "         2.03974187,  3.15577971,  2.29772531,  2.29772531,  0.81109373],\n",
       "       [ 0.41503618,  0.81309257,  0.49883043,  0.41503618,  0.41503618,\n",
       "         0.41503618,  0.31606298,  0.49883043,  0.31606298,  0.31606298,\n",
       "         1.15757524,  1.15757524,  2.29772531,  1.5679922 ,  3.15577971,\n",
       "         2.29772531,  1.35494451,  1.35494451,  0.81109373,  1.15757524,\n",
       "         0.31606298,  0.66246884,  0.81309257,  0.81309257,  2.70553069,\n",
       "         1.54080084,  1.54080084,  0.64155227,  0.38152607,  0.64155227,\n",
       "         0.41503618,  0.49883043,  0.41503618,  0.41503618,  1.15757524,\n",
       "         0.66246884,  1.15757524,  0.53044947,  0.41503618,  0.66246884,\n",
       "         0.38152607,  0.38152607,  0.38152607,  1.15757524,  0.53044947,\n",
       "         0.97620013,  1.5679922 ,  1.5679922 ,  1.35494451,  1.7963767 ,\n",
       "         4.13270243,  4.13270243,  3.15577971,  1.35494451,  1.7963767 ]])"
      ]
     },
     "execution_count": 23,
     "metadata": {},
     "output_type": "execute_result"
    }
   ],
   "source": [
    "Folder = '/home/matias/WORKSPACE/S2_git/data'    \n",
    "filesave =Folder +'/surprisedatasss20' \n",
    "\n",
    "#b = load_obj(filesave)\n",
    "\n",
    "idx = list(a.keys())\n",
    "\n",
    "n = idx[0]\n",
    "\n",
    "b[n].surprise_data.Data[20][10]"
   ]
  },
  {
   "cell_type": "code",
   "execution_count": null,
   "metadata": {
    "collapsed": true
   },
   "outputs": [],
   "source": []
  }
 ],
 "metadata": {
  "kernelspec": {
   "display_name": "Python 3",
   "language": "python",
   "name": "python3"
  },
  "language_info": {
   "codemirror_mode": {
    "name": "ipython",
    "version": 3
   },
   "file_extension": ".py",
   "mimetype": "text/x-python",
   "name": "python",
   "nbconvert_exporter": "python",
   "pygments_lexer": "ipython3",
   "version": "3.4.3"
  }
 },
 "nbformat": 4,
 "nbformat_minor": 0
}
